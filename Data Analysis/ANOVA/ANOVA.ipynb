{
 "cells": [
  {
   "cell_type": "markdown",
   "id": "c64c6309",
   "metadata": {},
   "source": [
    "* 분산분석 : 범주형 독립변수의 집단에 따라 연속형 종속변수의 평균에 차이가 있는지 통계학적으로 검정하는 방법\n",
    "           : t-test의 확장으로 독립변수의 집단이 3개 이상일 경우 사용하는 F검정\n",
    "           : 반응변수의 총 변동(TSS)을 각 그룹 간 차이에 의한 변동(SST)과 그룹 간 차이 외 변동(SSE)로 분해하고\n",
    "             이때 SST가 SSE보다 클 수록 각 그룹간 평균차가 통계학적으로 유의미하다.\n",
    "            \n",
    "* 분산 분석 표\n",
    "\n",
    "- 요인  자유도  제곱합     평균제곱      F-value\n",
    "- 처리    k-1    SST    MST=SST/자유도   F=MST/MSE\n",
    "- 오차    n-k    SSE    MSE=SSE/자유도\n",
    "- 총      n-1    TSS \n",
    "\n",
    "\n",
    "1. 일원 분산 분석     - 독립변수 : 1개(범주형)              종속변수 : 1개(연속형)\n",
    "2. 이원 분산 분석     - 독립변수 : 2개(범주형)              종속변수 : 1개(연속형)\n",
    "3. 다원 분산 분석     - 독립변수 : 3개 이상(범주형)         종속변수 : 1개(연속형)\n",
    "4. 다변량 분산 분석   - 독립변수 : 1개 이상(범주형)         종속변수 : 2개 이상(연속형)\n",
    "5. 공분산 분석        - 독립변수 : 2개 이상(연속형/범주형)  종속변수 : 1개(연속형)\n",
    "6. 다변량 공분산 분석 - 독립변수 : 2개 이상(연속형/범주형)  종속변수 : 2개 이상(연속형)"
   ]
  },
  {
   "cell_type": "markdown",
   "id": "50becee5",
   "metadata": {},
   "source": [
    "1. 일원 분산 분석\n",
    "- 오차와 처리의 분산비를 이용해 처리 효과가 유의한지 검정\n",
    "- 각 수준 중 적어도 하나는 효과가 있는가를 검정\n",
    "- 따라서 검정 결과가 유의한 경우 각 수준 간 유의차가 존재하는 쌍을 찾는 다중비교 절차 필요\n",
    "\n",
    "- 종속변수에 있어서 독립변수에 의해 설명되지 않는 영역 즉, 오차에 대한 가정\n",
    "     - 독립성 : 각각의 오차는 독립\n",
    "     - 등분산성 : 등분산 가정\n",
    "     - 정규성 : 정규분포 가정\n"
   ]
  },
  {
   "cell_type": "markdown",
   "id": "889d761d",
   "metadata": {},
   "source": [
    "* 왜도 : 분포의 비대칭을 나타내는 통계량(좌우로 치우진 정도)\n",
    "    - 왜도의 가운데는 중앙값\n",
    "    - 왜도 < 0 : 오른쪽 치우침 / 왜도 = 0 : 정규분포 / 왜도 > 0 : 왼쪽으로 치우침\n",
    "    - scipy 패키지의 stats 클래스에서 stats.sker() 메소드 사용\n",
    "\n",
    "* 첨도 : 자료가 중앙에 얼마나 분포되어 있는지를 나타내는 통계량(뾰족한 정도)\n",
    "    - 첨도 < 0 : 정규분포보다 납작함 / 첨도 = 0 : 정규분포 / 첨도 > 0 : 정규분포보다 뾰족함\n",
    "    - scipy 패키지의 stats 클래스에서 stats.kurtosis() 메소드 사용\n"
   ]
  },
  {
   "cell_type": "code",
   "execution_count": 141,
   "id": "007bf1d2",
   "metadata": {},
   "outputs": [],
   "source": [
    "# 공급업체 도입을 위해 4개 업체를 선정했다. 실험적으로 각 공정의 일부 라인에 4가지 종류의 새로운 기계를 도입했다.\n",
    "# 도입 결과로 얻어진 데이터를 이용해 어떤 업체의 제품을 이용하는 것이 품질 관리에 효과적인지 확인하고자 한다.\n",
    "\n",
    "import numpy as np\n",
    "import pandas as pd\n",
    "from scipy import stats\n",
    "import statsmodels.api as sm   # 간편한 분산 분석\n",
    "from statsmodels.formula.api import ols     # ols 패키지\n",
    "from statsmodels.stats.multicomp import pairwise_tukeyhsd  # 사후검정 패키지\n",
    "import matplotlib as plt\n",
    "import matplotlib.pyplot as plt\n",
    "import seaborn as sns\n",
    "\n",
    "%matplotlib inline"
   ]
  },
  {
   "cell_type": "code",
   "execution_count": 103,
   "id": "f5062e5d",
   "metadata": {},
   "outputs": [
    {
     "data": {
      "text/html": [
       "<div>\n",
       "<style scoped>\n",
       "    .dataframe tbody tr th:only-of-type {\n",
       "        vertical-align: middle;\n",
       "    }\n",
       "\n",
       "    .dataframe tbody tr th {\n",
       "        vertical-align: top;\n",
       "    }\n",
       "\n",
       "    .dataframe thead th {\n",
       "        text-align: right;\n",
       "    }\n",
       "</style>\n",
       "<table border=\"1\" class=\"dataframe\">\n",
       "  <thead>\n",
       "    <tr style=\"text-align: right;\">\n",
       "      <th></th>\n",
       "      <th>machine</th>\n",
       "      <th>type</th>\n",
       "      <th>defRate</th>\n",
       "    </tr>\n",
       "  </thead>\n",
       "  <tbody>\n",
       "    <tr>\n",
       "      <th>0</th>\n",
       "      <td>1</td>\n",
       "      <td>3</td>\n",
       "      <td>0.001999</td>\n",
       "    </tr>\n",
       "    <tr>\n",
       "      <th>1</th>\n",
       "      <td>2</td>\n",
       "      <td>1</td>\n",
       "      <td>0.005974</td>\n",
       "    </tr>\n",
       "    <tr>\n",
       "      <th>2</th>\n",
       "      <td>3</td>\n",
       "      <td>4</td>\n",
       "      <td>0.007828</td>\n",
       "    </tr>\n",
       "    <tr>\n",
       "      <th>3</th>\n",
       "      <td>4</td>\n",
       "      <td>1</td>\n",
       "      <td>0.006121</td>\n",
       "    </tr>\n",
       "    <tr>\n",
       "      <th>4</th>\n",
       "      <td>5</td>\n",
       "      <td>1</td>\n",
       "      <td>0.005887</td>\n",
       "    </tr>\n",
       "    <tr>\n",
       "      <th>...</th>\n",
       "      <td>...</td>\n",
       "      <td>...</td>\n",
       "      <td>...</td>\n",
       "    </tr>\n",
       "    <tr>\n",
       "      <th>295</th>\n",
       "      <td>296</td>\n",
       "      <td>2</td>\n",
       "      <td>0.002640</td>\n",
       "    </tr>\n",
       "    <tr>\n",
       "      <th>296</th>\n",
       "      <td>297</td>\n",
       "      <td>4</td>\n",
       "      <td>0.007573</td>\n",
       "    </tr>\n",
       "    <tr>\n",
       "      <th>297</th>\n",
       "      <td>298</td>\n",
       "      <td>2</td>\n",
       "      <td>0.003870</td>\n",
       "    </tr>\n",
       "    <tr>\n",
       "      <th>298</th>\n",
       "      <td>299</td>\n",
       "      <td>1</td>\n",
       "      <td>0.005815</td>\n",
       "    </tr>\n",
       "    <tr>\n",
       "      <th>299</th>\n",
       "      <td>300</td>\n",
       "      <td>1</td>\n",
       "      <td>0.006372</td>\n",
       "    </tr>\n",
       "  </tbody>\n",
       "</table>\n",
       "<p>300 rows × 3 columns</p>\n",
       "</div>"
      ],
      "text/plain": [
       "     machine  type   defRate\n",
       "0          1     3  0.001999\n",
       "1          2     1  0.005974\n",
       "2          3     4  0.007828\n",
       "3          4     1  0.006121\n",
       "4          5     1  0.005887\n",
       "..       ...   ...       ...\n",
       "295      296     2  0.002640\n",
       "296      297     4  0.007573\n",
       "297      298     2  0.003870\n",
       "298      299     1  0.005815\n",
       "299      300     1  0.006372\n",
       "\n",
       "[300 rows x 3 columns]"
      ]
     },
     "execution_count": 103,
     "metadata": {},
     "output_type": "execute_result"
    }
   ],
   "source": [
    "df1=pd.read_csv('C:/Users/dudsk/datafile/factory.csv')\n",
    "df1\n",
    "\n",
    "# machine : 기계 고유 번호\n",
    "# type : 공급 업체 종류\n",
    "# defRate : 불량률"
   ]
  },
  {
   "cell_type": "code",
   "execution_count": 104,
   "id": "b00ea92e",
   "metadata": {},
   "outputs": [
    {
     "name": "stdout",
     "output_type": "stream",
     "text": [
      "<class 'pandas.core.frame.DataFrame'>\n",
      "RangeIndex: 300 entries, 0 to 299\n",
      "Data columns (total 3 columns):\n",
      " #   Column   Non-Null Count  Dtype  \n",
      "---  ------   --------------  -----  \n",
      " 0   machine  300 non-null    int64  \n",
      " 1   type     300 non-null    int64  \n",
      " 2   defRate  300 non-null    float64\n",
      "dtypes: float64(1), int64(2)\n",
      "memory usage: 7.2 KB\n"
     ]
    }
   ],
   "source": [
    "# 데이터셋에 대한 정보 확인\n",
    "df1.info()"
   ]
  },
  {
   "cell_type": "code",
   "execution_count": 105,
   "id": "e991ff50",
   "metadata": {},
   "outputs": [
    {
     "data": {
      "text/plain": [
       "machine    0\n",
       "type       0\n",
       "defRate    0\n",
       "dtype: int64"
      ]
     },
     "execution_count": 105,
     "metadata": {},
     "output_type": "execute_result"
    }
   ],
   "source": [
    "# 결측치 존재 확인\n",
    "df1.isnull().sum()"
   ]
  },
  {
   "cell_type": "code",
   "execution_count": 106,
   "id": "54a60714",
   "metadata": {},
   "outputs": [
    {
     "data": {
      "text/plain": [
       "3    78\n",
       "2    77\n",
       "1    75\n",
       "4    70\n",
       "Name: type, dtype: int64"
      ]
     },
     "execution_count": 106,
     "metadata": {},
     "output_type": "execute_result"
    }
   ],
   "source": [
    "# 업체별 데이터 개수 확인(.value_counts() 메소드를 이용해 카테고리 별 개수 확인)\n",
    "df1.type.value_counts()"
   ]
  },
  {
   "cell_type": "code",
   "execution_count": 107,
   "id": "aa75f8e1",
   "metadata": {},
   "outputs": [
    {
     "data": {
      "text/html": [
       "<div>\n",
       "<style scoped>\n",
       "    .dataframe tbody tr th:only-of-type {\n",
       "        vertical-align: middle;\n",
       "    }\n",
       "\n",
       "    .dataframe tbody tr th {\n",
       "        vertical-align: top;\n",
       "    }\n",
       "\n",
       "    .dataframe thead th {\n",
       "        text-align: right;\n",
       "    }\n",
       "</style>\n",
       "<table border=\"1\" class=\"dataframe\">\n",
       "  <thead>\n",
       "    <tr style=\"text-align: right;\">\n",
       "      <th></th>\n",
       "      <th>machine</th>\n",
       "      <th>type</th>\n",
       "      <th>defRate</th>\n",
       "    </tr>\n",
       "  </thead>\n",
       "  <tbody>\n",
       "    <tr>\n",
       "      <th>count</th>\n",
       "      <td>300.000000</td>\n",
       "      <td>300.000000</td>\n",
       "      <td>300.000000</td>\n",
       "    </tr>\n",
       "    <tr>\n",
       "      <th>mean</th>\n",
       "      <td>150.500000</td>\n",
       "      <td>2.476667</td>\n",
       "      <td>0.004636</td>\n",
       "    </tr>\n",
       "    <tr>\n",
       "      <th>std</th>\n",
       "      <td>86.746758</td>\n",
       "      <td>1.104622</td>\n",
       "      <td>0.002418</td>\n",
       "    </tr>\n",
       "    <tr>\n",
       "      <th>min</th>\n",
       "      <td>1.000000</td>\n",
       "      <td>1.000000</td>\n",
       "      <td>0.000704</td>\n",
       "    </tr>\n",
       "    <tr>\n",
       "      <th>25%</th>\n",
       "      <td>75.750000</td>\n",
       "      <td>1.750000</td>\n",
       "      <td>0.002357</td>\n",
       "    </tr>\n",
       "    <tr>\n",
       "      <th>50%</th>\n",
       "      <td>150.500000</td>\n",
       "      <td>2.000000</td>\n",
       "      <td>0.003865</td>\n",
       "    </tr>\n",
       "    <tr>\n",
       "      <th>75%</th>\n",
       "      <td>225.250000</td>\n",
       "      <td>3.000000</td>\n",
       "      <td>0.006799</td>\n",
       "    </tr>\n",
       "    <tr>\n",
       "      <th>max</th>\n",
       "      <td>300.000000</td>\n",
       "      <td>4.000000</td>\n",
       "      <td>0.008727</td>\n",
       "    </tr>\n",
       "  </tbody>\n",
       "</table>\n",
       "</div>"
      ],
      "text/plain": [
       "          machine        type     defRate\n",
       "count  300.000000  300.000000  300.000000\n",
       "mean   150.500000    2.476667    0.004636\n",
       "std     86.746758    1.104622    0.002418\n",
       "min      1.000000    1.000000    0.000704\n",
       "25%     75.750000    1.750000    0.002357\n",
       "50%    150.500000    2.000000    0.003865\n",
       "75%    225.250000    3.000000    0.006799\n",
       "max    300.000000    4.000000    0.008727"
      ]
     },
     "execution_count": 107,
     "metadata": {},
     "output_type": "execute_result"
    }
   ],
   "source": [
    "# 기술 통계량 출력\n",
    "df1.describe()"
   ]
  },
  {
   "cell_type": "code",
   "execution_count": 108,
   "id": "befc83bb",
   "metadata": {},
   "outputs": [
    {
     "data": {
      "text/html": [
       "<div>\n",
       "<style scoped>\n",
       "    .dataframe tbody tr th:only-of-type {\n",
       "        vertical-align: middle;\n",
       "    }\n",
       "\n",
       "    .dataframe tbody tr th {\n",
       "        vertical-align: top;\n",
       "    }\n",
       "\n",
       "    .dataframe thead th {\n",
       "        text-align: right;\n",
       "    }\n",
       "</style>\n",
       "<table border=\"1\" class=\"dataframe\">\n",
       "  <thead>\n",
       "    <tr style=\"text-align: right;\">\n",
       "      <th></th>\n",
       "      <th>count</th>\n",
       "      <th>mean</th>\n",
       "      <th>std</th>\n",
       "      <th>min</th>\n",
       "      <th>25%</th>\n",
       "      <th>50%</th>\n",
       "      <th>75%</th>\n",
       "      <th>max</th>\n",
       "      <th>medina</th>\n",
       "      <th>skew</th>\n",
       "      <th>kurtosis</th>\n",
       "      <th>missing</th>\n",
       "    </tr>\n",
       "    <tr>\n",
       "      <th>type</th>\n",
       "      <th></th>\n",
       "      <th></th>\n",
       "      <th></th>\n",
       "      <th></th>\n",
       "      <th></th>\n",
       "      <th></th>\n",
       "      <th></th>\n",
       "      <th></th>\n",
       "      <th></th>\n",
       "      <th></th>\n",
       "      <th></th>\n",
       "      <th></th>\n",
       "    </tr>\n",
       "  </thead>\n",
       "  <tbody>\n",
       "    <tr>\n",
       "      <th>1</th>\n",
       "      <td>75.0</td>\n",
       "      <td>0.006029</td>\n",
       "      <td>0.000460</td>\n",
       "      <td>0.005062</td>\n",
       "      <td>0.005724</td>\n",
       "      <td>0.005986</td>\n",
       "      <td>0.006344</td>\n",
       "      <td>0.007295</td>\n",
       "      <td>0.005986</td>\n",
       "      <td>0.284333</td>\n",
       "      <td>-0.245943</td>\n",
       "      <td>0</td>\n",
       "    </tr>\n",
       "    <tr>\n",
       "      <th>2</th>\n",
       "      <td>77.0</td>\n",
       "      <td>0.002996</td>\n",
       "      <td>0.000522</td>\n",
       "      <td>0.002097</td>\n",
       "      <td>0.002640</td>\n",
       "      <td>0.002976</td>\n",
       "      <td>0.003368</td>\n",
       "      <td>0.004074</td>\n",
       "      <td>0.002976</td>\n",
       "      <td>0.203093</td>\n",
       "      <td>-0.770529</td>\n",
       "      <td>0</td>\n",
       "    </tr>\n",
       "    <tr>\n",
       "      <th>3</th>\n",
       "      <td>78.0</td>\n",
       "      <td>0.001946</td>\n",
       "      <td>0.000454</td>\n",
       "      <td>0.000704</td>\n",
       "      <td>0.001689</td>\n",
       "      <td>0.001986</td>\n",
       "      <td>0.002248</td>\n",
       "      <td>0.002917</td>\n",
       "      <td>0.001986</td>\n",
       "      <td>-0.369573</td>\n",
       "      <td>0.398895</td>\n",
       "      <td>0</td>\n",
       "    </tr>\n",
       "    <tr>\n",
       "      <th>4</th>\n",
       "      <td>70.0</td>\n",
       "      <td>0.007946</td>\n",
       "      <td>0.000420</td>\n",
       "      <td>0.006821</td>\n",
       "      <td>0.007650</td>\n",
       "      <td>0.007940</td>\n",
       "      <td>0.008278</td>\n",
       "      <td>0.008727</td>\n",
       "      <td>0.007940</td>\n",
       "      <td>-0.389347</td>\n",
       "      <td>-0.232689</td>\n",
       "      <td>0</td>\n",
       "    </tr>\n",
       "  </tbody>\n",
       "</table>\n",
       "</div>"
      ],
      "text/plain": [
       "      count      mean       std       min       25%       50%       75%  \\\n",
       "type                                                                      \n",
       "1      75.0  0.006029  0.000460  0.005062  0.005724  0.005986  0.006344   \n",
       "2      77.0  0.002996  0.000522  0.002097  0.002640  0.002976  0.003368   \n",
       "3      78.0  0.001946  0.000454  0.000704  0.001689  0.001986  0.002248   \n",
       "4      70.0  0.007946  0.000420  0.006821  0.007650  0.007940  0.008278   \n",
       "\n",
       "           max    medina      skew  kurtosis  missing  \n",
       "type                                                   \n",
       "1     0.007295  0.005986  0.284333 -0.245943        0  \n",
       "2     0.004074  0.002976  0.203093 -0.770529        0  \n",
       "3     0.002917  0.001986 -0.369573  0.398895        0  \n",
       "4     0.008727  0.007940 -0.389347 -0.232689        0  "
      ]
     },
     "execution_count": 108,
     "metadata": {},
     "output_type": "execute_result"
    }
   ],
   "source": [
    "# 왜도\n",
    "def skew(x):\n",
    "    return stats.skew(x)\n",
    "\n",
    "# 첨도\n",
    "def kurtosis(x):\n",
    "    return stats.kurtosis(x)\n",
    "\n",
    "# type으로 그룹핑 한 후 불량률에 대한 기술통계량\n",
    "df1_desc=df1.groupby('type')['defRate'].describe()\n",
    "\n",
    "skew_results=[]\n",
    "kurtosis_results=[]\n",
    "null_results=[]\n",
    "\n",
    "for i in range(1,5):\n",
    "    skew_results.append(skew(df1[df1['type']==i]['defRate']))          # skew_results에 df1의 type이 i와 일치하는(1~4) 각 불량률의 왜도를 입력하라\n",
    "    kurtosis_results.append(kurtosis(df1[df1['type']==i]['defRate']))  # kurtosis_results에 df1의 type이 i와 일치하는(1~4) 각 불량률의 첨도를 입력하라\n",
    "    null_results.append(df1[df1['type']==i]['defRate'].isnull().sum()) # null_results에 df1의 type이 i와 일치하는(1~4) 각 불량률의 null값의 합계를 입력하라\n",
    "# append() 메서드는 리스트를 추가하는 메서드\n",
    "\n",
    "df1_desc['medina']=df1.groupby('type')['defRate'].median() # df1_desc에 median 열을 추가하고 type별 그룹핑되어 불량률에 대한 중앙값을 입력하라\n",
    "df1_desc['skew']=skew_results\n",
    "df1_desc['kurtosis']=kurtosis_results\n",
    "df1_desc['missing']=null_results\n",
    "\n",
    "df1_desc\n",
    "\n",
    "# 이 결과 type 3의 불량률이 가장 빈번함을 알 수 있다. 그러나 평균은 가장 낮음을 알 수 있다."
   ]
  },
  {
   "cell_type": "code",
   "execution_count": 109,
   "id": "efa64495",
   "metadata": {},
   "outputs": [
    {
     "data": {
      "text/plain": [
       "<AxesSubplot:xlabel='type', ylabel='defRate'>"
      ]
     },
     "execution_count": 109,
     "metadata": {},
     "output_type": "execute_result"
    },
    {
     "data": {
      "image/png": "[encoded data removed]",
      "text/plain": [
       "<Figure size 432x288 with 1 Axes>"
      ]
     },
     "metadata": {
      "needs_background": "light"
     },
     "output_type": "display_data"
    }
   ],
   "source": [
    "sns.boxplot(x=df1.type, y=df1.defRate, data=df1)"
   ]
  },
  {
   "cell_type": "code",
   "execution_count": 110,
   "id": "fc34cdd2",
   "metadata": {},
   "outputs": [
    {
     "data": {
      "text/plain": [
       "<AxesSubplot:xlabel='type', ylabel='defRate'>"
      ]
     },
     "execution_count": 110,
     "metadata": {},
     "output_type": "execute_result"
    },
    {
     "data": {
      "image/png": "[encoded data removed]",
      "text/plain": [
       "<Figure size 432x288 with 1 Axes>"
      ]
     },
     "metadata": {
      "needs_background": "light"
     },
     "output_type": "display_data"
    }
   ],
   "source": [
    "sns.violinplot(x=df1.type,y=df1.defRate)\n",
    "\n",
    "# boxplot과 violinplot을 확인한 결과 type간 유의미한 차이가 있을 것 같은 형상을 보이고 있다. 히스토그램으로 살펴보자"
   ]
  },
  {
   "cell_type": "code",
   "execution_count": 111,
   "id": "d49c3de3",
   "metadata": {},
   "outputs": [
    {
     "data": {
      "text/plain": [
       "[Text(0, 0.5, 'defRate'), Text(0.5, 1.0, 'type4')]"
      ]
     },
     "execution_count": 111,
     "metadata": {},
     "output_type": "execute_result"
    },
    {
     "data": {
      "image/png": "[encoded data removed]",
      "text/plain": [
       "<Figure size 1152x864 with 4 Axes>"
      ]
     },
     "metadata": {
      "needs_background": "light"
     },
     "output_type": "display_data"
    }
   ],
   "source": [
    "type1=np.array(df1[df1.type==1]['defRate'])\n",
    "type2=np.array(df1[df1.type==2]['defRate'])\n",
    "type3=np.array(df1[df1.type==3]['defRate'])\n",
    "type4=np.array(df1[df1.type==4]['defRate'])\n",
    "\n",
    "figure, ((ax1,ax2),(ax3,ax4)) = plt.subplots(2,2) # figure와 2X2 axes 생성\n",
    "figure.set_size_inches(16,12)                     # 피규어 크기 설정\n",
    "\n",
    "sns.distplot(type1, norm_hist=True, kde=False, label='type1',rug=True, color='b',ax=ax1)    # norm_hist는 뭔지 모르겠음\n",
    "sns.distplot(type2, norm_hist=True, kde=False, label='type2',rug=True, color='r',ax=ax2)\n",
    "sns.distplot(type3, norm_hist=True, kde=False, label='type3',rug=True, color='g',ax=ax3)\n",
    "sns.distplot(type4, norm_hist=True, kde=False, label='type4',rug=True, color='orange',ax=ax4)\n",
    "\n",
    "ax1.set(ylabel='defRate', title='type1')\n",
    "ax2.set(ylabel='defRate', title='type2')\n",
    "ax3.set(ylabel='defRate', title='type3')\n",
    "ax4.set(ylabel='defRate', title='type4')"
   ]
  },
  {
   "cell_type": "code",
   "execution_count": 112,
   "id": "a92c4b0a",
   "metadata": {},
   "outputs": [],
   "source": [
    "# 표 한번에 보기\n",
    "\n"
   ]
  },
  {
   "cell_type": "code",
   "execution_count": 113,
   "id": "a577f4a0",
   "metadata": {},
   "outputs": [
    {
     "data": {
      "image/png": "[encoded data removed]",
      "text/plain": [
       "<Figure size 1152x432 with 1 Axes>"
      ]
     },
     "metadata": {
      "needs_background": "light"
     },
     "output_type": "display_data"
    }
   ],
   "source": [
    "plt.figure(figsize=(16,6))\n",
    "\n",
    "sns.distplot(type1, norm_hist=True, kde=False, label='type1',rug=True, color='b')    \n",
    "sns.distplot(type2, norm_hist=True, kde=False, label='type2',rug=True, color='r')\n",
    "sns.distplot(type3, norm_hist=True, kde=False, label='type3',rug=True, color='g')\n",
    "sns.distplot(type4, norm_hist=True, kde=False, label='type4',rug=True, color='orange')\n",
    "plt.xlabel('defRate')\n",
    "plt.legend()\n",
    "plt.grid(False)\n"
   ]
  },
  {
   "cell_type": "markdown",
   "id": "397b3369",
   "metadata": {},
   "source": [
    "* 지금까지 데이터 검토 및 기초통계량을 확인했다.\n",
    "* 이제 일원 분산 분석을 시행한다.\n",
    "\n",
    "* statsmodels 패키지의 ols 클래스를 사용하여 보기 쉽게 만들어보자\n",
    "    - ols(formula = '종속변수 ~ C(독립변수), data=  ).fit()    # .fit()는 학습하는 것을 의미한다.\n",
    "    - 결과의 반환은 데이터.summary()\n",
    "    \n",
    "* 표의 해석\n",
    "    - No.Observations : 표본 수\n",
    "    - Df Residuals : 잔차 (n-1)\n",
    "    - Df Model : 독립변수의 수\n",
    "    - Covariance Type : 공분산 타입\n",
    "    - R-squared : 결정계수. 모델의 설명력을 의미 (0.4 이상이면 괜찮은 모델이라 봄)\n",
    "    - adj. R-squared : 수정된 결정계수, 독립변수가 여러 개인 다중회귀분석에서 사용\n",
    "    - F-statistic : 검정통계량 F값\n",
    "    - prob(F-statistic) : F 검정통계량으로 산출한 p-value"
   ]
  },
  {
   "cell_type": "code",
   "execution_count": 145,
   "id": "b8e61164",
   "metadata": {},
   "outputs": [
    {
     "data": {
      "text/html": [
       "<table class=\"simpletable\">\n",
       "<caption>OLS Regression Results</caption>\n",
       "<tr>\n",
       "  <th>Dep. Variable:</th>         <td>defRate</td>     <th>  R-squared:         </th> <td>   0.963</td> \n",
       "</tr>\n",
       "<tr>\n",
       "  <th>Model:</th>                   <td>OLS</td>       <th>  Adj. R-squared:    </th> <td>   0.963</td> \n",
       "</tr>\n",
       "<tr>\n",
       "  <th>Method:</th>             <td>Least Squares</td>  <th>  F-statistic:       </th> <td>   2583.</td> \n",
       "</tr>\n",
       "<tr>\n",
       "  <th>Date:</th>             <td>Sat, 30 Oct 2021</td> <th>  Prob (F-statistic):</th> <td>7.22e-212</td>\n",
       "</tr>\n",
       "<tr>\n",
       "  <th>Time:</th>                 <td>03:08:49</td>     <th>  Log-Likelihood:    </th> <td>  1877.6</td> \n",
       "</tr>\n",
       "<tr>\n",
       "  <th>No. Observations:</th>      <td>   300</td>      <th>  AIC:               </th> <td>  -3747.</td> \n",
       "</tr>\n",
       "<tr>\n",
       "  <th>Df Residuals:</th>          <td>   296</td>      <th>  BIC:               </th> <td>  -3732.</td> \n",
       "</tr>\n",
       "<tr>\n",
       "  <th>Df Model:</th>              <td>     3</td>      <th>                     </th>     <td> </td>    \n",
       "</tr>\n",
       "<tr>\n",
       "  <th>Covariance Type:</th>      <td>nonrobust</td>    <th>                     </th>     <td> </td>    \n",
       "</tr>\n",
       "</table>\n",
       "<table class=\"simpletable\">\n",
       "<tr>\n",
       "        <td></td>          <th>coef</th>     <th>std err</th>      <th>t</th>      <th>P>|t|</th>  <th>[0.025</th>    <th>0.975]</th>  \n",
       "</tr>\n",
       "<tr>\n",
       "  <th>Intercept</th>    <td>    0.0060</td> <td> 5.38e-05</td> <td>  112.003</td> <td> 0.000</td> <td>    0.006</td> <td>    0.006</td>\n",
       "</tr>\n",
       "<tr>\n",
       "  <th>C(type)[T.2]</th> <td>   -0.0030</td> <td> 7.56e-05</td> <td>  -40.105</td> <td> 0.000</td> <td>   -0.003</td> <td>   -0.003</td>\n",
       "</tr>\n",
       "<tr>\n",
       "  <th>C(type)[T.3]</th> <td>   -0.0041</td> <td> 7.54e-05</td> <td>  -54.161</td> <td> 0.000</td> <td>   -0.004</td> <td>   -0.004</td>\n",
       "</tr>\n",
       "<tr>\n",
       "  <th>C(type)[T.4]</th> <td>    0.0019</td> <td> 7.75e-05</td> <td>   24.745</td> <td> 0.000</td> <td>    0.002</td> <td>    0.002</td>\n",
       "</tr>\n",
       "</table>\n",
       "<table class=\"simpletable\">\n",
       "<tr>\n",
       "  <th>Omnibus:</th>       <td> 0.584</td> <th>  Durbin-Watson:     </th> <td>   2.088</td>\n",
       "</tr>\n",
       "<tr>\n",
       "  <th>Prob(Omnibus):</th> <td> 0.747</td> <th>  Jarque-Bera (JB):  </th> <td>   0.693</td>\n",
       "</tr>\n",
       "<tr>\n",
       "  <th>Skew:</th>          <td>-0.014</td> <th>  Prob(JB):          </th> <td>   0.707</td>\n",
       "</tr>\n",
       "<tr>\n",
       "  <th>Kurtosis:</th>      <td> 2.766</td> <th>  Cond. No.          </th> <td>    4.79</td>\n",
       "</tr>\n",
       "</table><br/><br/>Notes:<br/>[1] Standard Errors assume that the covariance matrix of the errors is correctly specified."
      ],
      "text/plain": [
       "<class 'statsmodels.iolib.summary.Summary'>\n",
       "\"\"\"\n",
       "                            OLS Regression Results                            \n",
       "==============================================================================\n",
       "Dep. Variable:                defRate   R-squared:                       0.963\n",
       "Model:                            OLS   Adj. R-squared:                  0.963\n",
       "Method:                 Least Squares   F-statistic:                     2583.\n",
       "Date:                Sat, 30 Oct 2021   Prob (F-statistic):          7.22e-212\n",
       "Time:                        03:08:49   Log-Likelihood:                 1877.6\n",
       "No. Observations:                 300   AIC:                            -3747.\n",
       "Df Residuals:                     296   BIC:                            -3732.\n",
       "Df Model:                           3                                         \n",
       "Covariance Type:            nonrobust                                         \n",
       "================================================================================\n",
       "                   coef    std err          t      P>|t|      [0.025      0.975]\n",
       "--------------------------------------------------------------------------------\n",
       "Intercept        0.0060   5.38e-05    112.003      0.000       0.006       0.006\n",
       "C(type)[T.2]    -0.0030   7.56e-05    -40.105      0.000      -0.003      -0.003\n",
       "C(type)[T.3]    -0.0041   7.54e-05    -54.161      0.000      -0.004      -0.004\n",
       "C(type)[T.4]     0.0019   7.75e-05     24.745      0.000       0.002       0.002\n",
       "==============================================================================\n",
       "Omnibus:                        0.584   Durbin-Watson:                   2.088\n",
       "Prob(Omnibus):                  0.747   Jarque-Bera (JB):                0.693\n",
       "Skew:                          -0.014   Prob(JB):                        0.707\n",
       "Kurtosis:                       2.766   Cond. No.                         4.79\n",
       "==============================================================================\n",
       "\n",
       "Notes:\n",
       "[1] Standard Errors assume that the covariance matrix of the errors is correctly specified.\n",
       "\"\"\""
      ]
     },
     "execution_count": 145,
     "metadata": {},
     "output_type": "execute_result"
    }
   ],
   "source": [
    "df1_ols=pd.DataFrame(df1,columns=['defRate','type'])\n",
    "results=ols('defRate~C(type)',data=df1_ols).fit()\n",
    "results.summary()"
   ]
  },
  {
   "cell_type": "code",
   "execution_count": 149,
   "id": "afe8ace8",
   "metadata": {},
   "outputs": [
    {
     "data": {
      "text/html": [
       "<div>\n",
       "<style scoped>\n",
       "    .dataframe tbody tr th:only-of-type {\n",
       "        vertical-align: middle;\n",
       "    }\n",
       "\n",
       "    .dataframe tbody tr th {\n",
       "        vertical-align: top;\n",
       "    }\n",
       "\n",
       "    .dataframe thead th {\n",
       "        text-align: right;\n",
       "    }\n",
       "</style>\n",
       "<table border=\"1\" class=\"dataframe\">\n",
       "  <thead>\n",
       "    <tr style=\"text-align: right;\">\n",
       "      <th></th>\n",
       "      <th>df</th>\n",
       "      <th>sum_sq</th>\n",
       "      <th>mean_sq</th>\n",
       "      <th>F</th>\n",
       "      <th>PR(&gt;F)</th>\n",
       "    </tr>\n",
       "  </thead>\n",
       "  <tbody>\n",
       "    <tr>\n",
       "      <th>C(type)</th>\n",
       "      <td>3.0</td>\n",
       "      <td>0.001684</td>\n",
       "      <td>5.613998e-04</td>\n",
       "      <td>2583.218337</td>\n",
       "      <td>7.222459e-212</td>\n",
       "    </tr>\n",
       "    <tr>\n",
       "      <th>Residual</th>\n",
       "      <td>296.0</td>\n",
       "      <td>0.000064</td>\n",
       "      <td>2.173257e-07</td>\n",
       "      <td>NaN</td>\n",
       "      <td>NaN</td>\n",
       "    </tr>\n",
       "  </tbody>\n",
       "</table>\n",
       "</div>"
      ],
      "text/plain": [
       "             df    sum_sq       mean_sq            F         PR(>F)\n",
       "C(type)     3.0  0.001684  5.613998e-04  2583.218337  7.222459e-212\n",
       "Residual  296.0  0.000064  2.173257e-07          NaN            NaN"
      ]
     },
     "execution_count": 149,
     "metadata": {},
     "output_type": "execute_result"
    }
   ],
   "source": [
    "# p-valus 값을 위한 간단한 통계\n",
    "# statsmodels.api의 anova_lm 이용\n",
    "\n",
    "df1_anova_table=sm.stats.anova_lm(results,type=2) # statsmodels.api => sm\n",
    "df1_anova_table"
   ]
  },
  {
   "cell_type": "markdown",
   "id": "624707f0",
   "metadata": {},
   "source": [
    "* 분산분석 결과 통계적으로 유의함을 알 수 있었다.\n",
    "* 이제 분산 분석의 전제조건인 등분산성과 정규성을 충족하는지 확인해보자"
   ]
  },
  {
   "cell_type": "code",
   "execution_count": 137,
   "id": "c1621846",
   "metadata": {},
   "outputs": [
    {
     "name": "stdout",
     "output_type": "stream",
     "text": [
      "LeveneResult(statistic=1.7310879971416546, pvalue=0.16066186266506843)\n",
      "LeveneResult(statistic=1.7486552440177128, pvalue=0.1571322706629753)\n",
      "FlignerResult(statistic=5.074469579473792, pvalue=0.16642463017397863)\n",
      "BartlettResult(statistic=3.6075064508532617, pvalue=0.30708422680820513)\n"
     ]
    }
   ],
   "source": [
    "# 등분산성 검정\n",
    "\n",
    "type1=df1[df1.type==1]['defRate']\n",
    "type2=df1[df1.type==2]['defRate']\n",
    "type3=df1[df1.type==3]['defRate']\n",
    "type4=df1[df1.type==4]['defRate']\n",
    "\n",
    "levene_1=stats.levene(type1,type2,type3,type4)               # 등분산성 검정\n",
    "levene_2=stats.levene(type1,type2,type3,type4,center='mean') # 평균으로 비교\n",
    "fligner=stats.fligner(type1,type2,type3,type4)\n",
    "bartlett=stats.bartlett(type1,type2,type3,type4)\n",
    "\n",
    "print(levene)\n",
    "print(levene1)\n",
    "print(fligner)\n",
    "print(bartlett)\n",
    "\n",
    "# 검정 결과 모든 값에서 p-value가 유의수준 0.05보다 크므로 귀무가설을 채택한다\n",
    "# 즉, 등분산성이 충족된다."
   ]
  },
  {
   "cell_type": "markdown",
   "id": "408d7d19",
   "metadata": {},
   "source": [
    "* 사후검정(다중비교)을 통해 유사성이 존재하는 그룹을 찾아낸다\n",
    "* tukey 방법론 활용\n",
    "* statsmodels.stats.multicomp 패키지의 pairwise_tukeyhsd 활용\n",
    "   - pairwise_tukeyhsd(종속변수,독립변수,alpha(유의확률)= )\n",
    "   - 결과변수.summary() 활용\n",
    "\n"
   ]
  },
  {
   "cell_type": "code",
   "execution_count": 153,
   "id": "ffd9a90a",
   "metadata": {},
   "outputs": [
    {
     "data": {
      "text/html": [
       "<table class=\"simpletable\">\n",
       "<caption>Multiple Comparison of Means - Tukey HSD, FWER=0.05</caption>\n",
       "<tr>\n",
       "  <th>group1</th> <th>group2</th> <th>meandiff</th> <th>p-adj</th>  <th>lower</th>   <th>upper</th>  <th>reject</th>\n",
       "</tr>\n",
       "<tr>\n",
       "     <td>1</td>      <td>2</td>    <td>-0.003</td>  <td>0.001</td> <td>-0.0032</td> <td>-0.0028</td>  <td>True</td> \n",
       "</tr>\n",
       "<tr>\n",
       "     <td>1</td>      <td>3</td>    <td>-0.0041</td> <td>0.001</td> <td>-0.0043</td> <td>-0.0039</td>  <td>True</td> \n",
       "</tr>\n",
       "<tr>\n",
       "     <td>1</td>      <td>4</td>    <td>0.0019</td>  <td>0.001</td> <td>0.0017</td>  <td>0.0021</td>   <td>True</td> \n",
       "</tr>\n",
       "<tr>\n",
       "     <td>2</td>      <td>3</td>    <td>-0.0011</td> <td>0.001</td> <td>-0.0012</td> <td>-0.0009</td>  <td>True</td> \n",
       "</tr>\n",
       "<tr>\n",
       "     <td>2</td>      <td>4</td>     <td>0.005</td>  <td>0.001</td> <td>0.0048</td>  <td>0.0051</td>   <td>True</td> \n",
       "</tr>\n",
       "<tr>\n",
       "     <td>3</td>      <td>4</td>     <td>0.006</td>  <td>0.001</td> <td>0.0058</td>  <td>0.0062</td>   <td>True</td> \n",
       "</tr>\n",
       "</table>"
      ],
      "text/plain": [
       "<class 'statsmodels.iolib.table.SimpleTable'>"
      ]
     },
     "execution_count": 153,
     "metadata": {},
     "output_type": "execute_result"
    }
   ],
   "source": [
    "from statsmodels.stats.multicomp import pairwise_tukeyhsd\n",
    "\n",
    "df1_tukey=pairwise_tukeyhsd(df1.defRate,df1.type,alpha=0.05)\n",
    "df1_tukey.summary()\n",
    "\n",
    "# 결과값을 해석하자면 각 그룹에 대한 p-value는 유의수준 보다 낮다. 즉, 각 그룹은 모두 유의성이 존재하지 않는다. \n",
    "# 다시말해 각 그룹의 평균 차이는 유의미하다.\n",
    "# 이때 앞서 살펴본 type3의 불량률이 가장 낮았는데 각 그룹 간 통계적으로 유의하기 때문에 이를 사실로 받아들일 수 있다."
   ]
  },
  {
   "cell_type": "code",
   "execution_count": null,
   "id": "3aa2fcec",
   "metadata": {},
   "outputs": [],
   "source": []
  }
 ],
 "metadata": {
  "kernelspec": {
   "display_name": "Python 3 (ipykernel)",
   "language": "python",
   "name": "python3"
  },
  "language_info": {
   "codemirror_mode": {
    "name": "ipython",
    "version": 3
   },
   "file_extension": ".py",
   "mimetype": "text/x-python",
   "name": "python",
   "nbconvert_exporter": "python",
   "pygments_lexer": "ipython3",
   "version": "3.9.7"
  }
 },
 "nbformat": 4,
 "nbformat_minor": 5
}
