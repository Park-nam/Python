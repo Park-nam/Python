{
 "cells": [
  {
   "cell_type": "code",
   "execution_count": 1,
   "id": "82fca5fd",
   "metadata": {},
   "outputs": [],
   "source": [
    "import numpy as np\n",
    "import pandas as pd\n",
    "from scipy import stats\n",
    "import statsmodels.api as sm\n",
    "from statsmodels.formula.api import ols\n",
    "from statsmodels.stats.multicomp import pairwise_tukeyhsd"
   ]
  },
  {
   "cell_type": "markdown",
   "id": "aa21d3b1",
   "metadata": {},
   "source": [
    "### 1. 독립표본 T-test\n",
    "\n",
    "- 소표본일 경우 t-test를 사용, 자유도 n1+n2-2의 t분포 / 만일 모분산의 등분산이 가정되지 않을 경우 특정 자유도 '세타'를 따르는 t분포 이용\n",
    "- 대표본일 경우 t분포는 정규분포에 근사하기 때문에 Z검정으로 계산 가능\n",
    "- equal_val = 등분산 여부\n",
    "- alternative = 양측/단측 검정"
   ]
  },
  {
   "cell_type": "code",
   "execution_count": 47,
   "id": "d8c1be5c",
   "metadata": {},
   "outputs": [
    {
     "name": "stdout",
     "output_type": "stream",
     "text": [
      "ShapiroResult(statistic=0.9147204160690308, pvalue=0.4295216202735901)\n",
      "ShapiroResult(statistic=0.9612342715263367, pvalue=0.8292515873908997)\n",
      "LeveneResult(statistic=0.10869565217391308, pvalue=0.7473178000070186)\n",
      "BartlettResult(statistic=0.05642329335305127, pvalue=0.8122410888700984)\n"
     ]
    },
    {
     "data": {
      "text/plain": [
       "Ttest_indResult(statistic=3.587521542539111, pvalue=0.002971151455277398)"
      ]
     },
     "execution_count": 47,
     "metadata": {},
     "output_type": "execute_result"
    }
   ],
   "source": [
    "female = [63.8, 56.4, 55.2, 58.5, 64.0, 51.6, 54.6, 71.0]\n",
    "male = [75.5, 83.9, 75.7, 72.5, 56.2, 73.4, 67.7, 87.9]\n",
    "\n",
    "# 정규성(소표본이기 때문에)\n",
    "print(stats.shapiro(df1.before))\n",
    "print(stats.shapiro(df1.after))\n",
    "\n",
    "# 등분산 검정\n",
    "print(stats.levene(df1.before,df1.after))\n",
    "print(stats.bartlett(df1.before,df1.after))\n",
    "\n",
    "# 만일 이분산 검정일 경우 equal_var = False 설정\n",
    "stats.ttest_ind(male, female)"
   ]
  },
  {
   "cell_type": "markdown",
   "id": "5657fcc2",
   "metadata": {},
   "source": [
    "### 2. 대응표본 T-test"
   ]
  },
  {
   "cell_type": "code",
   "execution_count": 48,
   "id": "552eb02e",
   "metadata": {
    "scrolled": true
   },
   "outputs": [
    {
     "name": "stdout",
     "output_type": "stream",
     "text": [
      "ShapiroResult(statistic=0.9147204160690308, pvalue=0.4295216202735901)\n",
      "ShapiroResult(statistic=0.9612342715263367, pvalue=0.8292515873908997)\n",
      "LeveneResult(statistic=0.10869565217391308, pvalue=0.7473178000070186)\n",
      "BartlettResult(statistic=0.05642329335305127, pvalue=0.8122410888700984)\n"
     ]
    },
    {
     "data": {
      "text/plain": [
       "Ttest_relResult(statistic=-2.5980762113533156, pvalue=0.04076740686322286)"
      ]
     },
     "execution_count": 48,
     "metadata": {},
     "output_type": "execute_result"
    }
   ],
   "source": [
    "bf = [72,80,83,63,66,76,82]\n",
    "af = [78,82,82,68,70,75,88]\n",
    "df1 = pd.DataFrame({'before' : bf, 'after' : af}, index = np.arange(1,len(bf)+1))\n",
    "\n",
    "# 정규성(소표본이기 때문에)\n",
    "print(stats.shapiro(df1.before))\n",
    "print(stats.shapiro(df1.after))\n",
    "\n",
    "# 등분산 검정\n",
    "print(stats.levene(df1.before,df1.after))\n",
    "print(stats.bartlett(df1.before,df1.after))\n",
    "\n",
    "# ttest_rel모듈은 대응표본에 사용\n",
    "stats.ttest_rel(df1.before, df1.after)"
   ]
  },
  {
   "cell_type": "markdown",
   "id": "bf31153a",
   "metadata": {},
   "source": [
    "### 3. ANOVA\n",
    "\n",
    "- 독립성(카이제곱검정)\n",
    "- 정규성(shapiro, kstest)\n",
    "- 등분산성(levene, bartlett)"
   ]
  },
  {
   "cell_type": "markdown",
   "id": "81eda0d3",
   "metadata": {},
   "source": [
    "#### 3-1 one-way ANOVA"
   ]
  },
  {
   "cell_type": "code",
   "execution_count": 98,
   "id": "87bb2e39",
   "metadata": {},
   "outputs": [
    {
     "name": "stdout",
     "output_type": "stream",
     "text": [
      "LeveneResult(statistic=0.24444444444444444, pvalue=0.8630385124791773)\n",
      "ShapiroResult(statistic=1.0, pvalue=0.999998927116394) \n",
      " ShapiroResult(statistic=0.9230769872665405, pvalue=0.46326181292533875) \n",
      " ShapiroResult(statistic=0.9642858505249023, pvalue=0.6368862986564636) \n",
      " ShapiroResult(statistic=0.7499999403953552, pvalue=-1.1383646096874145e-06)\n"
     ]
    },
    {
     "data": {
      "text/html": [
       "<div>\n",
       "<style scoped>\n",
       "    .dataframe tbody tr th:only-of-type {\n",
       "        vertical-align: middle;\n",
       "    }\n",
       "\n",
       "    .dataframe tbody tr th {\n",
       "        vertical-align: top;\n",
       "    }\n",
       "\n",
       "    .dataframe thead th {\n",
       "        text-align: right;\n",
       "    }\n",
       "</style>\n",
       "<table border=\"1\" class=\"dataframe\">\n",
       "  <thead>\n",
       "    <tr style=\"text-align: right;\">\n",
       "      <th></th>\n",
       "      <th>df</th>\n",
       "      <th>sum_sq</th>\n",
       "      <th>mean_sq</th>\n",
       "      <th>F</th>\n",
       "      <th>PR(&gt;F)</th>\n",
       "    </tr>\n",
       "  </thead>\n",
       "  <tbody>\n",
       "    <tr>\n",
       "      <th>C(type)</th>\n",
       "      <td>3.0</td>\n",
       "      <td>200.916667</td>\n",
       "      <td>66.972222</td>\n",
       "      <td>29.765432</td>\n",
       "      <td>0.000109</td>\n",
       "    </tr>\n",
       "    <tr>\n",
       "      <th>Residual</th>\n",
       "      <td>8.0</td>\n",
       "      <td>18.000000</td>\n",
       "      <td>2.250000</td>\n",
       "      <td>NaN</td>\n",
       "      <td>NaN</td>\n",
       "    </tr>\n",
       "  </tbody>\n",
       "</table>\n",
       "</div>"
      ],
      "text/plain": [
       "           df      sum_sq    mean_sq          F    PR(>F)\n",
       "C(type)   3.0  200.916667  66.972222  29.765432  0.000109\n",
       "Residual  8.0   18.000000   2.250000        NaN       NaN"
      ]
     },
     "metadata": {},
     "output_type": "display_data"
    },
    {
     "name": "stdout",
     "output_type": "stream",
     "text": [
      "--------------------------------------------------\n"
     ]
    },
    {
     "data": {
      "text/html": [
       "<table class=\"simpletable\">\n",
       "<caption>Multiple Comparison of Means - Tukey HSD, FWER=0.05</caption>\n",
       "<tr>\n",
       "  <th>group1</th> <th>group2</th> <th>meandiff</th>  <th>p-adj</th>  <th>lower</th>   <th>upper</th>  <th>reject</th>\n",
       "</tr>\n",
       "<tr>\n",
       "     <td>1</td>      <td>2</td>    <td>3.6667</td>  <td>0.0671</td> <td>-0.2558</td> <td>7.5891</td>   <td>False</td>\n",
       "</tr>\n",
       "<tr>\n",
       "     <td>1</td>      <td>3</td>    <td>11.3333</td>  <td>0.001</td> <td>7.4109</td>  <td>15.2558</td>  <td>True</td> \n",
       "</tr>\n",
       "<tr>\n",
       "     <td>1</td>      <td>4</td>    <td>5.3333</td>  <td>0.0104</td> <td>1.4109</td>  <td>9.2558</td>   <td>True</td> \n",
       "</tr>\n",
       "<tr>\n",
       "     <td>2</td>      <td>3</td>    <td>7.6667</td>  <td>0.0011</td> <td>3.7442</td>  <td>11.5891</td>  <td>True</td> \n",
       "</tr>\n",
       "<tr>\n",
       "     <td>2</td>      <td>4</td>    <td>1.6667</td>  <td>0.5516</td> <td>-2.2558</td> <td>5.5891</td>   <td>False</td>\n",
       "</tr>\n",
       "<tr>\n",
       "     <td>3</td>      <td>4</td>     <td>-6.0</td>   <td>0.0052</td> <td>-9.9225</td> <td>-2.0775</td>  <td>True</td> \n",
       "</tr>\n",
       "</table>"
      ],
      "text/plain": [
       "<class 'statsmodels.iolib.table.SimpleTable'>"
      ]
     },
     "execution_count": 98,
     "metadata": {},
     "output_type": "execute_result"
    }
   ],
   "source": [
    "df2 = pd.DataFrame({'X' : [84,83,82,85,89,86,93,94,96,89,89,87],\n",
    "                   'type' : [1,1,1,2,2,2,3,3,3,4,4,4]})\n",
    "\n",
    "print(stats.levene(df2.X[df2.type==1], \n",
    "             df2.X[df2.type==2],\n",
    "             df2.X[df2.type==3],\n",
    "             df2.X[df2.type==4]))\n",
    "\n",
    "# 음수가 나왔으나 간단한 분석이니 넘어간다.\n",
    "print(stats.shapiro(df2.X[df2.type==1]),'\\n',stats.shapiro(df2.X[df2.type==2]),'\\n',stats.shapiro(df2.X[df2.type==3]),'\\n',stats.shapiro(df2.X[df2.type==4]))\n",
    "\n",
    "df2_ols = ols('X~C(type)', data = df2).fit()\n",
    "df2_anova = sm.stats.anova_lm(df2_ols)\n",
    "display(df2_anova)\n",
    "print('-'*50)\n",
    "\n",
    "df2_tukey=pairwise_tukeyhsd(df2.X, df2.type, alpha = 0.05)\n",
    "df2_tukey.summary()"
   ]
  },
  {
   "cell_type": "markdown",
   "id": "db88dad8",
   "metadata": {},
   "source": [
    "#### 3-2 two-way ANOVA"
   ]
  },
  {
   "cell_type": "code",
   "execution_count": 117,
   "id": "76e63448",
   "metadata": {},
   "outputs": [
    {
     "data": {
      "text/html": [
       "<div>\n",
       "<style scoped>\n",
       "    .dataframe tbody tr th:only-of-type {\n",
       "        vertical-align: middle;\n",
       "    }\n",
       "\n",
       "    .dataframe tbody tr th {\n",
       "        vertical-align: top;\n",
       "    }\n",
       "\n",
       "    .dataframe thead th {\n",
       "        text-align: right;\n",
       "    }\n",
       "</style>\n",
       "<table border=\"1\" class=\"dataframe\">\n",
       "  <thead>\n",
       "    <tr style=\"text-align: right;\">\n",
       "      <th></th>\n",
       "      <th>df</th>\n",
       "      <th>sum_sq</th>\n",
       "      <th>mean_sq</th>\n",
       "      <th>F</th>\n",
       "      <th>PR(&gt;F)</th>\n",
       "    </tr>\n",
       "  </thead>\n",
       "  <tbody>\n",
       "    <tr>\n",
       "      <th>C(type1)</th>\n",
       "      <td>3.0</td>\n",
       "      <td>2.726667</td>\n",
       "      <td>0.908889</td>\n",
       "      <td>8.039312</td>\n",
       "      <td>0.015947</td>\n",
       "    </tr>\n",
       "    <tr>\n",
       "      <th>C(type2)</th>\n",
       "      <td>2.0</td>\n",
       "      <td>3.015000</td>\n",
       "      <td>1.507500</td>\n",
       "      <td>13.334152</td>\n",
       "      <td>0.006195</td>\n",
       "    </tr>\n",
       "    <tr>\n",
       "      <th>Residual</th>\n",
       "      <td>6.0</td>\n",
       "      <td>0.678333</td>\n",
       "      <td>0.113056</td>\n",
       "      <td>NaN</td>\n",
       "      <td>NaN</td>\n",
       "    </tr>\n",
       "  </tbody>\n",
       "</table>\n",
       "</div>"
      ],
      "text/plain": [
       "           df    sum_sq   mean_sq          F    PR(>F)\n",
       "C(type1)  3.0  2.726667  0.908889   8.039312  0.015947\n",
       "C(type2)  2.0  3.015000  1.507500  13.334152  0.006195\n",
       "Residual  6.0  0.678333  0.113056        NaN       NaN"
      ]
     },
     "metadata": {},
     "output_type": "display_data"
    }
   ],
   "source": [
    "df3 = pd.DataFrame({'X' : [97.8,97.5,96.9,98.5,98.8,97.1,99.2,98.4,98.1,98.2,97.5,96.8],\n",
    "                    'type1' : [1,1,1,2,2,2,3,3,3,4,4,4],\n",
    "                   'type2' : [1,2,3,1,2,3,1,2,3,1,2,3]})\n",
    "\n",
    "df3_ols = ols('X~C(type1)+C(type2)', data = df3).fit()\n",
    "df3_anova = sm.stats.anova_lm(df3_ols)\n",
    "display(df3_anova)"
   ]
  }
 ],
 "metadata": {
  "kernelspec": {
   "display_name": "Python 3 (ipykernel)",
   "language": "python",
   "name": "python3"
  },
  "language_info": {
   "codemirror_mode": {
    "name": "ipython",
    "version": 3
   },
   "file_extension": ".py",
   "mimetype": "text/x-python",
   "name": "python",
   "nbconvert_exporter": "python",
   "pygments_lexer": "ipython3",
   "version": "3.9.7"
  }
 },
 "nbformat": 4,
 "nbformat_minor": 5
}
