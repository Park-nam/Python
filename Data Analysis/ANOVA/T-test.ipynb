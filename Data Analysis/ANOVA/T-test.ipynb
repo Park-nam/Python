{
 "cells": [
  {
   "cell_type": "markdown",
   "id": "66866349",
   "metadata": {},
   "source": [
    "* T검정 : 두 집단 간의 차이가 있는지 비교\n",
    "      - 독립변수 : 범주형\n",
    "      - 종속변수 : 수치형 \n",
    "        \n",
    "  * 단일표본 t-test : 특정 집단의 평균을 어떤 숫자와 비교\n",
    "  * 독립표본 t-test : 서로 다른 두 그룹 간 평균 비교\n",
    "  * 대응표본 t-test : 한 집단의 처리(사건) 전후 평균 비교"
   ]
  },
  {
   "cell_type": "markdown",
   "id": "08b189df",
   "metadata": {},
   "source": [
    "## 1. 단일 표본 t-test\n",
    "\n",
    "     - scipy의 ttest_1samp 사용 - stats.ttest_1samp(x, n) : x : 데이터 n : 비교할 평균\n",
    "\n",
    "     (1) 가설 설정 : 귀무가설(=) / 대립가설(=/)\n",
    "     \n",
    "     (2) 검정통계량 설정\n",
    "     \n",
    "     (3) 기각역 설정 : 유의수준\n",
    "     \n",
    "     (4) p-value 계산\n",
    "     \n",
    "     (5) 가설 검정"
   ]
  },
  {
   "cell_type": "code",
   "execution_count": 117,
   "id": "8293c5f0",
   "metadata": {},
   "outputs": [
    {
     "name": "stdout",
     "output_type": "stream",
     "text": [
      "[89.03 95.07 88.26 90.07 90.6  87.   87.67 88.8  90.46 81.33]\n"
     ]
    }
   ],
   "source": [
    "import numpy as np\n",
    "import pandas as pd\n",
    "import scipy as sp\n",
    "from scipy import stats\n",
    "from scipy.stats import ttest_1samp   # 해당 패키지 임포트시 ttest_1samp만 입력해도 결과 출력\n",
    "from scipy.stats import shapiro   # 정규성 검증을 위한 패키지\n",
    "from matplotlib import pyplot as plt\n",
    "import seaborn as sns\n",
    "\n",
    "%matplotlib inline\n",
    "\n",
    "# 사용할 데이터인 감자칩의 중량 데이터 생성\n",
    "# 감자칩의 중량이 평균 90에 일치하는가를 판별\n",
    "\n",
    "df1=np.array([89.03,95.07,88.26,90.07,90.6,87,87.67,88.8,90.46,81.33])\n",
    "print(df1)"
   ]
  },
  {
   "cell_type": "markdown",
   "id": "0b6c5022",
   "metadata": {},
   "source": [
    "자료가 정규성을 충족하는지 판단"
   ]
  },
  {
   "cell_type": "code",
   "execution_count": 101,
   "id": "df1f1a8d",
   "metadata": {},
   "outputs": [
    {
     "data": {
      "text/plain": [
       "ShapiroResult(statistic=0.9104638695716858, pvalue=0.28419265151023865)"
      ]
     },
     "execution_count": 101,
     "metadata": {},
     "output_type": "execute_result"
    }
   ],
   "source": [
    "shapiro(df1)\n",
    "\n",
    "# p-value가 0.28로 유의수준 0.05보다 크기 때문에 정규성 만족\n",
    "#   - 귀무가설이 채택되기 때문에(=)"
   ]
  },
  {
   "cell_type": "markdown",
   "id": "23180e2e",
   "metadata": {},
   "source": [
    "감자칩 자료의 단일표본 t-test 시행"
   ]
  },
  {
   "cell_type": "code",
   "execution_count": 102,
   "id": "9cea8c6b",
   "metadata": {},
   "outputs": [
    {
     "data": {
      "text/plain": [
       "Ttest_1sampResult(statistic=-1.071079943556364, pvalue=0.31201445250451004)"
      ]
     },
     "execution_count": 102,
     "metadata": {},
     "output_type": "execute_result"
    }
   ],
   "source": [
    "df1_ttest_1samp=stats.ttest_1samp(potato_chip, 90)\n",
    "# scipy의 ttest_1samp 사용 - stats.ttest_1samp(x, n) : x : 데이터 n : 비교할 평균\n",
    "\n",
    "df1_ttest_1samp\n",
    "# t-value(검정통계량) : 1.07 p-value : 0.3120\n",
    "# 따라서 귀무가설 채택. 즉, 감자칩의 중량은 평균 90에 해당한다."
   ]
  },
  {
   "cell_type": "markdown",
   "id": "c94bb5d3",
   "metadata": {},
   "source": [
    "표본 데이터를 seaborn의 distplot을 사용하여 히스토그램으로 시각화"
   ]
  },
  {
   "cell_type": "code",
   "execution_count": 103,
   "id": "efcb469a",
   "metadata": {
    "scrolled": true
   },
   "outputs": [
    {
     "data": {
      "text/plain": [
       "Text(0.5, 0, 'the weight for the snack')"
      ]
     },
     "execution_count": 103,
     "metadata": {},
     "output_type": "execute_result"
    },
    {
     "data": {
      "image/png": "[encoded data removed]",
      "text/plain": [
       "<Figure size 432x288 with 1 Axes>"
      ]
     },
     "metadata": {
      "needs_background": "light"
     },
     "output_type": "display_data"
    }
   ],
   "source": [
    "ax=sns.distplot(df1,kde=True,fit=stats.norm,label='potato_chip',color='b', rug=True)\n",
    "plt.legend()\n",
    "plt.xlabel('the weight for the snack')\n",
    "\n",
    "# 데이터 대부분이 90g에 근접함을 알 수 있다."
   ]
  },
  {
   "cell_type": "markdown",
   "id": "d3da0351",
   "metadata": {},
   "source": [
    "## 2. 독립 표본 t-test\n",
    "    - 독립변수 : 범주형(2개 집단), 종속변수 : 연속형\n",
    "    - 두 집단은 서로 독립임을 가정\n",
    "    - 이때 두 집단의 등분산성에 대한 검정을 사전에 수행함.(유의수준보다 커야 함)\n",
    "    \n",
    "    (1) 등분산 가정\n",
    "       - stats.levene(df1,df2)\n",
    "       - stats.fligner(df1,df2)\n",
    "       - stats.bartlett(df1,df2)\n",
    "     \n",
    "     (2) 독립표본 t-test\n",
    "       - stats.ttest_ind(df1,df2,equal_var=True) -> equal_var=True 는 등분산에 차이가 없음을 의미 "
   ]
  },
  {
   "cell_type": "code",
   "execution_count": 111,
   "id": "7bb54189",
   "metadata": {},
   "outputs": [
    {
     "data": {
      "text/html": [
       "<div>\n",
       "<style scoped>\n",
       "    .dataframe tbody tr th:only-of-type {\n",
       "        vertical-align: middle;\n",
       "    }\n",
       "\n",
       "    .dataframe tbody tr th {\n",
       "        vertical-align: top;\n",
       "    }\n",
       "\n",
       "    .dataframe thead th {\n",
       "        text-align: right;\n",
       "    }\n",
       "</style>\n",
       "<table border=\"1\" class=\"dataframe\">\n",
       "  <thead>\n",
       "    <tr style=\"text-align: right;\">\n",
       "      <th></th>\n",
       "      <th>Store</th>\n",
       "      <th>promotion</th>\n",
       "      <th>profit</th>\n",
       "    </tr>\n",
       "  </thead>\n",
       "  <tbody>\n",
       "    <tr>\n",
       "      <th>0</th>\n",
       "      <td>1</td>\n",
       "      <td>NO</td>\n",
       "      <td>2100</td>\n",
       "    </tr>\n",
       "    <tr>\n",
       "      <th>1</th>\n",
       "      <td>2</td>\n",
       "      <td>YES</td>\n",
       "      <td>3000</td>\n",
       "    </tr>\n",
       "    <tr>\n",
       "      <th>2</th>\n",
       "      <td>3</td>\n",
       "      <td>YES</td>\n",
       "      <td>2200</td>\n",
       "    </tr>\n",
       "    <tr>\n",
       "      <th>3</th>\n",
       "      <td>4</td>\n",
       "      <td>YES</td>\n",
       "      <td>2600</td>\n",
       "    </tr>\n",
       "  </tbody>\n",
       "</table>\n",
       "</div>"
      ],
      "text/plain": [
       "   Store promotion  profit\n",
       "0      1        NO    2100\n",
       "1      2       YES    3000\n",
       "2      3       YES    2200\n",
       "3      4       YES    2600"
      ]
     },
     "execution_count": 111,
     "metadata": {},
     "output_type": "execute_result"
    }
   ],
   "source": [
    "# a유통은 새로운 프로모션을 기획했다. 이때 프로모션 진행이 과연 적절한지에 대한 검증이 필요하다\n",
    "# 독립변수는 프로모션 유무이며 종속변수는 수익이다.\n",
    "\n",
    "df2=pd.read_csv('C:/Users/dudsk/datafile/promotion.csv')\n",
    "df2.head(4)"
   ]
  },
  {
   "cell_type": "code",
   "execution_count": 112,
   "id": "958740e9",
   "metadata": {},
   "outputs": [
    {
     "data": {
      "text/html": [
       "<div>\n",
       "<style scoped>\n",
       "    .dataframe tbody tr th:only-of-type {\n",
       "        vertical-align: middle;\n",
       "    }\n",
       "\n",
       "    .dataframe tbody tr th {\n",
       "        vertical-align: top;\n",
       "    }\n",
       "\n",
       "    .dataframe thead th {\n",
       "        text-align: right;\n",
       "    }\n",
       "</style>\n",
       "<table border=\"1\" class=\"dataframe\">\n",
       "  <thead>\n",
       "    <tr style=\"text-align: right;\">\n",
       "      <th></th>\n",
       "      <th>profit</th>\n",
       "    </tr>\n",
       "  </thead>\n",
       "  <tbody>\n",
       "    <tr>\n",
       "      <th>count</th>\n",
       "      <td>52.000000</td>\n",
       "    </tr>\n",
       "    <tr>\n",
       "      <th>mean</th>\n",
       "      <td>1923.076923</td>\n",
       "    </tr>\n",
       "    <tr>\n",
       "      <th>std</th>\n",
       "      <td>347.887397</td>\n",
       "    </tr>\n",
       "    <tr>\n",
       "      <th>min</th>\n",
       "      <td>1400.000000</td>\n",
       "    </tr>\n",
       "    <tr>\n",
       "      <th>25%</th>\n",
       "      <td>1675.000000</td>\n",
       "    </tr>\n",
       "    <tr>\n",
       "      <th>50%</th>\n",
       "      <td>1900.000000</td>\n",
       "    </tr>\n",
       "    <tr>\n",
       "      <th>75%</th>\n",
       "      <td>2125.000000</td>\n",
       "    </tr>\n",
       "    <tr>\n",
       "      <th>max</th>\n",
       "      <td>2800.000000</td>\n",
       "    </tr>\n",
       "  </tbody>\n",
       "</table>\n",
       "</div>"
      ],
      "text/plain": [
       "            profit\n",
       "count    52.000000\n",
       "mean   1923.076923\n",
       "std     347.887397\n",
       "min    1400.000000\n",
       "25%    1675.000000\n",
       "50%    1900.000000\n",
       "75%    2125.000000\n",
       "max    2800.000000"
      ]
     },
     "execution_count": 112,
     "metadata": {},
     "output_type": "execute_result"
    }
   ],
   "source": [
    "# promotion을 받지 않은 집단의 기초통계량\n",
    "\n",
    "df2[df2.promotion=='NO'][['profit']].describe()"
   ]
  },
  {
   "cell_type": "code",
   "execution_count": 113,
   "id": "80f06738",
   "metadata": {},
   "outputs": [
    {
     "data": {
      "text/html": [
       "<div>\n",
       "<style scoped>\n",
       "    .dataframe tbody tr th:only-of-type {\n",
       "        vertical-align: middle;\n",
       "    }\n",
       "\n",
       "    .dataframe tbody tr th {\n",
       "        vertical-align: top;\n",
       "    }\n",
       "\n",
       "    .dataframe thead th {\n",
       "        text-align: right;\n",
       "    }\n",
       "</style>\n",
       "<table border=\"1\" class=\"dataframe\">\n",
       "  <thead>\n",
       "    <tr style=\"text-align: right;\">\n",
       "      <th></th>\n",
       "      <th>profit</th>\n",
       "    </tr>\n",
       "  </thead>\n",
       "  <tbody>\n",
       "    <tr>\n",
       "      <th>count</th>\n",
       "      <td>48.000000</td>\n",
       "    </tr>\n",
       "    <tr>\n",
       "      <th>mean</th>\n",
       "      <td>2906.250000</td>\n",
       "    </tr>\n",
       "    <tr>\n",
       "      <th>std</th>\n",
       "      <td>331.602332</td>\n",
       "    </tr>\n",
       "    <tr>\n",
       "      <th>min</th>\n",
       "      <td>2200.000000</td>\n",
       "    </tr>\n",
       "    <tr>\n",
       "      <th>25%</th>\n",
       "      <td>2600.000000</td>\n",
       "    </tr>\n",
       "    <tr>\n",
       "      <th>50%</th>\n",
       "      <td>2900.000000</td>\n",
       "    </tr>\n",
       "    <tr>\n",
       "      <th>75%</th>\n",
       "      <td>3125.000000</td>\n",
       "    </tr>\n",
       "    <tr>\n",
       "      <th>max</th>\n",
       "      <td>3600.000000</td>\n",
       "    </tr>\n",
       "  </tbody>\n",
       "</table>\n",
       "</div>"
      ],
      "text/plain": [
       "            profit\n",
       "count    48.000000\n",
       "mean   2906.250000\n",
       "std     331.602332\n",
       "min    2200.000000\n",
       "25%    2600.000000\n",
       "50%    2900.000000\n",
       "75%    3125.000000\n",
       "max    3600.000000"
      ]
     },
     "execution_count": 113,
     "metadata": {},
     "output_type": "execute_result"
    }
   ],
   "source": [
    "# promotion을 받은 집단의 기초통계량\n",
    "\n",
    "df2[df2.promotion=='YES'][['profit']].describe()"
   ]
  },
  {
   "cell_type": "markdown",
   "id": "f6d6561a",
   "metadata": {},
   "source": [
    "독립표본 t-test를 시행함과 동시에 레빈, 플리그너, 바틀렛 등분산 검정을 시행한다"
   ]
  },
  {
   "cell_type": "code",
   "execution_count": 134,
   "id": "35b7ff77",
   "metadata": {},
   "outputs": [
    {
     "name": "stdout",
     "output_type": "stream",
     "text": [
      "LeveneResult(statistic=0.2584791718538349, pvalue=0.6123094972971628)\n",
      "FlignerResult(statistic=0.17882366723950327, pvalue=0.6723861172631853)\n",
      "BartlettResult(statistic=0.11111189033299336, pvalue=0.7388817981694387)\n",
      "Ttest_indResult(statistic=14.439444741743737, pvalue=5.272506488147903e-26)\n"
     ]
    }
   ],
   "source": [
    "# 프로모션 실행과 미실행의 두 집단으로 구분된 데이터를 활용\n",
    "df2_yes=df2[df2.promotion=='YES']['profit'] \n",
    "df2_no=df2[df2.promotion=='NO']['profit']     # 검정은 1차원 출력이므로 [] 하나로만 감싼다.\n",
    "\n",
    "# 등분산 검정 레빈\n",
    "levene=stats.levene(df2_yes,df2_no)\n",
    "print(levene)\n",
    "\n",
    "# 등분산 플리그너\n",
    "fligner=stats.fligner(df2_yes,df2_no)\n",
    "print(fligner)\n",
    "\n",
    "# 등분산 바틀렛\n",
    "bartlett=stats.bartlett(df2_yes,df2_no)\n",
    "print(bartlett)\n",
    "\n",
    "# 독립표본 t-test\n",
    "df2_ttest_ind=stats.ttest_ind(df_yes,df_no,equal_var=True)\n",
    "print(df2_ttest_ind)\n",
    "\n",
    "# 등분산 검정 결과 p-value가 유의수준 0.05보다 크므로 등분산성 조건을 만족한다\n",
    "# t-test 검정 결과 t값(검정통계량)은 14.439이며, p-value는 유의수준 0.05보다 작으므로 로 두 집단에는 차이가 있다(귀무가설 기각)"
   ]
  },
  {
   "cell_type": "markdown",
   "id": "be0d3bc8",
   "metadata": {},
   "source": [
    "## 3. 대응 표본 t-test\n",
    "     - stats.ttest_rel(df1,df2)"
   ]
  },
  {
   "cell_type": "code",
   "execution_count": 118,
   "id": "4878c2c5",
   "metadata": {},
   "outputs": [
    {
     "data": {
      "text/html": [
       "<div>\n",
       "<style scoped>\n",
       "    .dataframe tbody tr th:only-of-type {\n",
       "        vertical-align: middle;\n",
       "    }\n",
       "\n",
       "    .dataframe tbody tr th {\n",
       "        vertical-align: top;\n",
       "    }\n",
       "\n",
       "    .dataframe thead th {\n",
       "        text-align: right;\n",
       "    }\n",
       "</style>\n",
       "<table border=\"1\" class=\"dataframe\">\n",
       "  <thead>\n",
       "    <tr style=\"text-align: right;\">\n",
       "      <th></th>\n",
       "      <th>store</th>\n",
       "      <th>before</th>\n",
       "      <th>after</th>\n",
       "    </tr>\n",
       "  </thead>\n",
       "  <tbody>\n",
       "    <tr>\n",
       "      <th>0</th>\n",
       "      <td>1</td>\n",
       "      <td>290</td>\n",
       "      <td>326</td>\n",
       "    </tr>\n",
       "    <tr>\n",
       "      <th>1</th>\n",
       "      <td>2</td>\n",
       "      <td>304</td>\n",
       "      <td>306</td>\n",
       "    </tr>\n",
       "    <tr>\n",
       "      <th>2</th>\n",
       "      <td>3</td>\n",
       "      <td>282</td>\n",
       "      <td>328</td>\n",
       "    </tr>\n",
       "    <tr>\n",
       "      <th>3</th>\n",
       "      <td>4</td>\n",
       "      <td>293</td>\n",
       "      <td>322</td>\n",
       "    </tr>\n",
       "  </tbody>\n",
       "</table>\n",
       "</div>"
      ],
      "text/plain": [
       "   store  before  after\n",
       "0      1     290    326\n",
       "1      2     304    306\n",
       "2      3     282    328\n",
       "3      4     293    322"
      ]
     },
     "execution_count": 118,
     "metadata": {},
     "output_type": "execute_result"
    }
   ],
   "source": [
    "# s전자는 새로운 광고모델 a를 채용했다. 그러나 광고비 과다 지출로 a를 지속해서 채용하는 것이\n",
    "# 매출 증대에 실질적으로 도움이 되는지 확인해 볼 필요성을 느껴 검정하기로 한다.\n",
    "\n",
    "df3=pd.read_csv('C:/Users/dudsk/datafile/tvads.csv')\n",
    "df3.head(4)"
   ]
  },
  {
   "cell_type": "code",
   "execution_count": 136,
   "id": "36af398a",
   "metadata": {},
   "outputs": [
    {
     "data": {
      "text/plain": [
       "Ttest_relResult(statistic=-13.532101813984697, pvalue=5.472565823443566e-19)"
      ]
     },
     "execution_count": 136,
     "metadata": {},
     "output_type": "execute_result"
    }
   ],
   "source": [
    "# 먼저 광고모델 a를 사용하기 전과 후의 두 집단으로 구분한다.\n",
    "df3_before=df3.before\n",
    "df3_after=df3.after\n",
    "\n",
    "# 대응표본 t-test\n",
    "df3_ttest_rel=stats.ttest_rel(df3_before,df3_after)\n",
    "df3_ttest_rel\n",
    "\n",
    "# t-test 결과 t-value(검정통계량)dms 13.53이며 p-value는 유의수준 0.05보다 작기 때문에 귀무가설을 기각한다\n",
    "# 즉, 광고모델 a를 사용하기 전과 후의 차이가 존재한다."
   ]
  },
  {
   "cell_type": "code",
   "execution_count": 138,
   "id": "52460a39",
   "metadata": {},
   "outputs": [
    {
     "data": {
      "text/plain": [
       "33.29090909090909"
      ]
     },
     "execution_count": 138,
     "metadata": {},
     "output_type": "execute_result"
    }
   ],
   "source": [
    "diff_df3_result=df3_after-df3_before\n",
    "diff_df3_result.mean()\n",
    "\n",
    "# 두 집단은 광고 집행 전후로 평균 33.29의 매출 증가가 있었다."
   ]
  },
  {
   "cell_type": "code",
   "execution_count": 149,
   "id": "681d5714",
   "metadata": {},
   "outputs": [
    {
     "data": {
      "text/plain": [
       "<matplotlib.legend.Legend at 0x20a9b1c3ee0>"
      ]
     },
     "execution_count": 149,
     "metadata": {},
     "output_type": "execute_result"
    },
    {
     "data": {
      "image/png": "[encoded data removed]",
      "text/plain": [
       "<Figure size 1152x864 with 2 Axes>"
      ]
     },
     "metadata": {
      "needs_background": "light"
     },
     "output_type": "display_data"
    }
   ],
   "source": [
    "# 광고 전후 집단의 플롯 생성\n",
    "\n",
    "plt.figure(figsize=(16,12))    # 다중 플롯 생성\n",
    "\n",
    "ax1=plt.subplot(221)\n",
    "ax1=sns.distplot(df3_before,kde=True,fit=stats.gamma,label='before',color='b')\n",
    "ax1.set(xlabel='the number of customer', title='tv ads, before')\n",
    "\n",
    "ax2=plt.subplot(222)\n",
    "ax2=sns.distplot(df3_after, kde=True, fit=stats.gamma, label='after',color='r')\n",
    "ax2.set(xlabel='the number of customer', title='tv ads, after')\n",
    "\n",
    "plt.legend()"
   ]
  },
  {
   "cell_type": "code",
   "execution_count": 151,
   "id": "ffb72138",
   "metadata": {},
   "outputs": [
    {
     "data": {
      "text/plain": [
       "<matplotlib.legend.Legend at 0x20a9a645340>"
      ]
     },
     "execution_count": 151,
     "metadata": {},
     "output_type": "execute_result"
    },
    {
     "data": {
      "image/png": "[encoded data removed]",
      "text/plain": [
       "<Figure size 432x288 with 1 Axes>"
      ]
     },
     "metadata": {
      "needs_background": "light"
     },
     "output_type": "display_data"
    }
   ],
   "source": [
    "# 두 플롯을 겹쳐서 생성해 보자\n",
    "\n",
    "ax3=sns.distplot(df3_before,kde=True,fit=stats.gamma,label='before',color='b')\n",
    "ax3=sns.distplot(df3_after, kde=True, fit=stats.gamma, label='after',color='r')\n",
    "ax3.set(xlabel='the number of customer', title='tv ads, after')\n",
    "plt.legend()"
   ]
  },
  {
   "cell_type": "code",
   "execution_count": null,
   "id": "7ad38074",
   "metadata": {},
   "outputs": [],
   "source": []
  }
 ],
 "metadata": {
  "kernelspec": {
   "display_name": "Python 3 (ipykernel)",
   "language": "python",
   "name": "python3"
  },
  "language_info": {
   "codemirror_mode": {
    "name": "ipython",
    "version": 3
   },
   "file_extension": ".py",
   "mimetype": "text/x-python",
   "name": "python",
   "nbconvert_exporter": "python",
   "pygments_lexer": "ipython3",
   "version": "3.9.7"
  }
 },
 "nbformat": 4,
 "nbformat_minor": 5
}
