{
 "cells": [
  {
   "cell_type": "code",
   "execution_count": 1,
   "id": "fd36e5c2",
   "metadata": {
    "collapsed": true
   },
   "outputs": [
    {
     "name": "stdout",
     "output_type": "stream",
     "text": [
      "Collecting selenium\n",
      "  Downloading selenium-4.1.3-py3-none-any.whl (968 kB)\n",
      "Requirement already satisfied: urllib3[secure,socks]~=1.26 in c:\\users\\park\\anaconda3\\lib\\site-packages (from selenium) (1.26.7)\n",
      "Collecting trio-websocket~=0.9\n",
      "  Downloading trio_websocket-0.9.2-py3-none-any.whl (16 kB)\n",
      "Collecting trio~=0.17\n",
      "  Downloading trio-0.20.0-py3-none-any.whl (359 kB)\n",
      "Requirement already satisfied: attrs>=19.2.0 in c:\\users\\park\\anaconda3\\lib\\site-packages (from trio~=0.17->selenium) (21.2.0)\n",
      "Requirement already satisfied: sniffio in c:\\users\\park\\anaconda3\\lib\\site-packages (from trio~=0.17->selenium) (1.2.0)\n",
      "Requirement already satisfied: idna in c:\\users\\park\\anaconda3\\lib\\site-packages (from trio~=0.17->selenium) (3.2)\n",
      "Collecting outcome\n",
      "  Downloading outcome-1.1.0-py2.py3-none-any.whl (9.7 kB)\n",
      "Requirement already satisfied: cffi>=1.14 in c:\\users\\park\\anaconda3\\lib\\site-packages (from trio~=0.17->selenium) (1.14.6)\n",
      "Requirement already satisfied: sortedcontainers in c:\\users\\park\\anaconda3\\lib\\site-packages (from trio~=0.17->selenium) (2.4.0)\n",
      "Requirement already satisfied: async-generator>=1.9 in c:\\users\\park\\anaconda3\\lib\\site-packages (from trio~=0.17->selenium) (1.10)\n",
      "Requirement already satisfied: pycparser in c:\\users\\park\\anaconda3\\lib\\site-packages (from cffi>=1.14->trio~=0.17->selenium) (2.20)\n",
      "Collecting wsproto>=0.14\n",
      "  Downloading wsproto-1.1.0-py3-none-any.whl (24 kB)\n",
      "Requirement already satisfied: PySocks!=1.5.7,<2.0,>=1.5.6 in c:\\users\\park\\anaconda3\\lib\\site-packages (from urllib3[secure,socks]~=1.26->selenium) (1.7.1)\n",
      "Requirement already satisfied: pyOpenSSL>=0.14 in c:\\users\\park\\anaconda3\\lib\\site-packages (from urllib3[secure,socks]~=1.26->selenium) (21.0.0)\n",
      "Requirement already satisfied: cryptography>=1.3.4 in c:\\users\\park\\anaconda3\\lib\\site-packages (from urllib3[secure,socks]~=1.26->selenium) (3.4.8)\n",
      "Requirement already satisfied: certifi in c:\\users\\park\\anaconda3\\lib\\site-packages (from urllib3[secure,socks]~=1.26->selenium) (2021.10.8)\n",
      "Requirement already satisfied: six>=1.5.2 in c:\\users\\park\\anaconda3\\lib\\site-packages (from pyOpenSSL>=0.14->urllib3[secure,socks]~=1.26->selenium) (1.16.0)\n",
      "Collecting h11<1,>=0.9.0\n",
      "  Downloading h11-0.13.0-py3-none-any.whl (58 kB)\n",
      "Installing collected packages: outcome, h11, wsproto, trio, trio-websocket, selenium\n",
      "Successfully installed h11-0.13.0 outcome-1.1.0 selenium-4.1.3 trio-0.20.0 trio-websocket-0.9.2 wsproto-1.1.0\n"
     ]
    }
   ],
   "source": [
    "!pip install selenium\n",
    "\n",
    "# 추가로 현재 크롬 버전과 같은 chromedriver 설치 필요"
   ]
  },
  {
   "cell_type": "code",
   "execution_count": 85,
   "id": "3a641aa4",
   "metadata": {},
   "outputs": [],
   "source": [
    "from selenium import webdriver\n",
    "import warnings\n",
    "warnings.filterwarnings('ignore')\n",
    "from selenium.webdriver.common.keys import Keys  # key.enter를 위해 "
   ]
  },
  {
   "cell_type": "markdown",
   "id": "b9baa492",
   "metadata": {},
   "source": [
    "### browser.get을 통해 사이트 접속"
   ]
  },
  {
   "cell_type": "code",
   "execution_count": 97,
   "id": "9f942420",
   "metadata": {},
   "outputs": [],
   "source": [
    "browser = webdriver.Chrome('C:/Users/Park/chromedriver.exe')\n",
    "browser.get('http://naver.com')"
   ]
  },
  {
   "cell_type": "markdown",
   "id": "ff05442a",
   "metadata": {},
   "source": [
    "### 페이지 클릭 및 이동"
   ]
  },
  {
   "cell_type": "code",
   "execution_count": null,
   "id": "b2f112c5",
   "metadata": {},
   "outputs": [],
   "source": [
    "# 페이지 이동\n",
    "browser.get('http://naver.com')"
   ]
  },
  {
   "cell_type": "code",
   "execution_count": 88,
   "id": "06342d5e",
   "metadata": {},
   "outputs": [],
   "source": [
    "# 페이지 클릭 요소 추출\n",
    "elem = browser.find_element_by_class_name('link_login')   # by 이후 태그에 따라 다름\n",
    "# 페이지 클릭\n",
    "elem.click()"
   ]
  },
  {
   "cell_type": "code",
   "execution_count": 100,
   "id": "4238358f",
   "metadata": {},
   "outputs": [],
   "source": [
    "# 뒤로가기\n",
    "browser.back()"
   ]
  },
  {
   "cell_type": "code",
   "execution_count": 90,
   "id": "1971105f",
   "metadata": {},
   "outputs": [],
   "source": [
    "# 앞으로가기\n",
    "browser.forward()"
   ]
  },
  {
   "cell_type": "code",
   "execution_count": 91,
   "id": "f67b1201",
   "metadata": {},
   "outputs": [],
   "source": [
    "# 새로고침\n",
    "browser.refresh()"
   ]
  },
  {
   "cell_type": "markdown",
   "id": "d9215fa1",
   "metadata": {},
   "source": [
    "### 검색 및 클릭\n",
    "> send_keys : 텍스트 입력\n",
    "\n",
    "> Keys.ENTER : 클릭"
   ]
  },
  {
   "cell_type": "code",
   "execution_count": 98,
   "id": "ab73cdf7",
   "metadata": {},
   "outputs": [],
   "source": [
    "elem = browser.find_element_by_id('query')\n",
    "elem.send_keys('나도코딩') # 네이버 컴색창에 나도코딩이라 입력\n",
    "elem.send_keys(Keys.ENTER) # 입력된 단어 검색을 위해 엔터 클릭"
   ]
  },
  {
   "cell_type": "markdown",
   "id": "e3706bab",
   "metadata": {},
   "source": [
    "### 요소 출력\n",
    "\n",
    "- find_element_by_tag_name('a')  : 태그가 a인 첫번째 요소를 리턴\n",
    "- find_elements_by_tag_name('a') : 태그가 a인 모든 요소를 리턴\n",
    "--------------------------------------------------------------------\n",
    "> get_attribute()\n",
    "- bs4에서는 요소를 출력하기 위해 []를 사용했음\n",
    "- 셀레니움에서는 요소 출력을 위해 get_attribute()를 사용 - 반복문으로 요소 출력\n",
    "    - 반복문으로 출력하는 이유는 리스트는 정수 인덱싱만 가능하며, 문자 인덱싱은 불가능하기 때문에 반복문을 통해 각 행별 요소 출력"
   ]
  },
  {
   "cell_type": "code",
   "execution_count": 93,
   "id": "fdcf45b2",
   "metadata": {},
   "outputs": [
    {
     "data": {
      "text/plain": [
       "['https://www.naver.com/',\n",
       " 'https://www.naver.com/',\n",
       " 'https://nid.naver.com/nidlogin.login?mode=form&url=https%3A%2F%2Fwww.naver.com#none',\n",
       " 'https://nid.naver.com/nidlogin.login?mode=form&url=https%3A%2F%2Fwww.naver.com#none',\n",
       " 'https://nid.naver.com/nidlogin.login?mode=form&url=https%3A%2F%2Fwww.naver.com#none',\n",
       " 'https://nid.naver.com/login/ext/help_ip3.html',\n",
       " 'https://nid.naver.com/user2/api/route?m=routePwInquiry&lang=ko_KR',\n",
       " 'https://nid.naver.com/user2/api/route?m=routeIdInquiry&lang=ko_KR',\n",
       " 'https://nid.naver.com/user2/V2Join?m=agree&lang=ko_KR',\n",
       " 'http://www.naver.com/rules/service.html',\n",
       " 'http://www.naver.com/rules/privacy.html',\n",
       " 'http://www.naver.com/rules/disclaimer.html',\n",
       " 'https://help.naver.com/support/service/main.nhn?serviceNo=532',\n",
       " 'https://www.navercorp.com/']"
      ]
     },
     "execution_count": 93,
     "metadata": {},
     "output_type": "execute_result"
    }
   ],
   "source": [
    "elem = browser.find_elements_by_tag_name('a')\n",
    "link =[]\n",
    "for e in elem:\n",
    "    link.append(e.get_attribute('href'))\n",
    "    \n",
    "link"
   ]
  },
  {
   "cell_type": "markdown",
   "id": "3d59fd0d",
   "metadata": {},
   "source": [
    "### xpath를 이용하여 요소 출력"
   ]
  },
  {
   "cell_type": "code",
   "execution_count": 101,
   "id": "f2269bda",
   "metadata": {},
   "outputs": [],
   "source": [
    "elem = browser.find_element_by_xpath('//*[@id=\"account\"]/a')\n",
    "elem.click()"
   ]
  },
  {
   "cell_type": "markdown",
   "id": "13052204",
   "metadata": {},
   "source": [
    "### 브라우저 종료\n",
    "\n",
    "> browser.close : 탭 종료\n",
    "\n",
    "> browser.quit : 모두 종료"
   ]
  },
  {
   "cell_type": "code",
   "execution_count": 95,
   "id": "4d27f625",
   "metadata": {},
   "outputs": [],
   "source": [
    "browser.quit()"
   ]
  },
  {
   "cell_type": "markdown",
   "id": "e4c1fd2e",
   "metadata": {},
   "source": [
    "### 복습"
   ]
  },
  {
   "cell_type": "code",
   "execution_count": 102,
   "id": "ca6ce9be",
   "metadata": {},
   "outputs": [],
   "source": [
    "browser.get('http://daum.net')"
   ]
  },
  {
   "cell_type": "code",
   "execution_count": 103,
   "id": "d2a6805e",
   "metadata": {},
   "outputs": [],
   "source": [
    "elem = browser.find_element_by_xpath('//*[@id=\"daumSearch\"]/fieldset/div/div/button[2]')\n",
    "elem.send_keys('나도코딩')\n",
    "elem.send_keys(Keys.ENTER)"
   ]
  },
  {
   "cell_type": "code",
   "execution_count": 105,
   "id": "235daa4d",
   "metadata": {},
   "outputs": [],
   "source": [
    "elem = browser.find_element_by_id('q')\n",
    "elem.send_keys('나도코딩')\n",
    "elem.send_keys(Keys.ENTER)"
   ]
  },
  {
   "cell_type": "code",
   "execution_count": 104,
   "id": "f6cfdcb4",
   "metadata": {},
   "outputs": [],
   "source": [
    "browser.back()"
   ]
  },
  {
   "cell_type": "markdown",
   "id": "b11a58e0",
   "metadata": {},
   "source": [
    "# --------------------------------------------------------------------"
   ]
  },
  {
   "cell_type": "markdown",
   "id": "676e9575",
   "metadata": {},
   "source": [
    "# 네이버 로그인"
   ]
  },
  {
   "cell_type": "code",
   "execution_count": 106,
   "id": "f4e8f96b",
   "metadata": {},
   "outputs": [],
   "source": [
    "browser = webdriver.Chrome('C:/Users/Park/chromedriver.exe')"
   ]
  },
  {
   "cell_type": "markdown",
   "id": "b73ebad3",
   "metadata": {},
   "source": [
    "### 네이버 이동"
   ]
  },
  {
   "cell_type": "code",
   "execution_count": 107,
   "id": "42b91983",
   "metadata": {},
   "outputs": [],
   "source": [
    "browser.get('http://naver.com')"
   ]
  },
  {
   "cell_type": "markdown",
   "id": "4f894ad4",
   "metadata": {},
   "source": [
    "### 로그인 화면 이동"
   ]
  },
  {
   "cell_type": "code",
   "execution_count": 108,
   "id": "7f197dbe",
   "metadata": {},
   "outputs": [],
   "source": [
    "elem = browser.find_element_by_xpath('//*[@id=\"account\"]/a')\n",
    "# browser.find_element_by_class_name('link_login')과 동일한 의미\n",
    "elem.click()"
   ]
  },
  {
   "cell_type": "markdown",
   "id": "f79cc609",
   "metadata": {},
   "source": [
    "### ID, Ps 입력\n",
    "- 자동로그인은 자동입력방지(네이버 캡차) 때문에 우회방법을 활용해야 한다. 하지만 너무 복잡하니 스킵"
   ]
  },
  {
   "cell_type": "code",
   "execution_count": 109,
   "id": "44cdc877",
   "metadata": {},
   "outputs": [],
   "source": [
    "browser.find_element_by_xpath('//*[@id=\"id\"]').send_keys('dudska1432')\n",
    "browser.find_element_by_id('pw').send_keys('park951824!!')\n",
    "browser.find_element_by_id('log.login').click()"
   ]
  },
  {
   "cell_type": "markdown",
   "id": "025c3a12",
   "metadata": {},
   "source": [
    "- 만약 작성된 텍스트를 다시 지우고 싶다면 \n",
    "> clear() 함수 사용\n",
    "- browser.find_element_by_xpath('//*[@id=\"id\"]').clear() 입력"
   ]
  },
  {
   "cell_type": "code",
   "execution_count": null,
   "id": "c9d8d47e",
   "metadata": {},
   "outputs": [],
   "source": []
  }
 ],
 "metadata": {
  "kernelspec": {
   "display_name": "Python 3 (ipykernel)",
   "language": "python",
   "name": "python3"
  },
  "language_info": {
   "codemirror_mode": {
    "name": "ipython",
    "version": 3
   },
   "file_extension": ".py",
   "mimetype": "text/x-python",
   "name": "python",
   "nbconvert_exporter": "python",
   "pygments_lexer": "ipython3",
   "version": "3.9.7"
  }
 },
 "nbformat": 4,
 "nbformat_minor": 5
}
