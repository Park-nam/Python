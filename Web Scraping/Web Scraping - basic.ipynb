{
 "cells": [
  {
   "cell_type": "markdown",
   "id": "59b3429b",
   "metadata": {},
   "source": [
    "# 스크래핑 기초"
   ]
  },
  {
   "cell_type": "markdown",
   "id": "0bfc1c5a",
   "metadata": {},
   "source": [
    "## 1. requests"
   ]
  },
  {
   "cell_type": "code",
   "execution_count": 2,
   "id": "1ff6ebfe",
   "metadata": {},
   "outputs": [
    {
     "name": "stdout",
     "output_type": "stream",
     "text": [
      "Requirement already satisfied: requests in c:\\users\\park\\anaconda3\\lib\\site-packages (2.26.0)\n",
      "Requirement already satisfied: certifi>=2017.4.17 in c:\\users\\park\\anaconda3\\lib\\site-packages (from requests) (2021.10.8)\n",
      "Requirement already satisfied: idna<4,>=2.5 in c:\\users\\park\\anaconda3\\lib\\site-packages (from requests) (3.2)\n",
      "Requirement already satisfied: charset-normalizer~=2.0.0 in c:\\users\\park\\anaconda3\\lib\\site-packages (from requests) (2.0.4)\n",
      "Requirement already satisfied: urllib3<1.27,>=1.21.1 in c:\\users\\park\\anaconda3\\lib\\site-packages (from requests) (1.26.7)\n"
     ]
    }
   ],
   "source": [
    "!pip install requests"
   ]
  },
  {
   "cell_type": "code",
   "execution_count": 3,
   "id": "59856de6",
   "metadata": {},
   "outputs": [],
   "source": [
    "import requests"
   ]
  },
  {
   "cell_type": "code",
   "execution_count": 22,
   "id": "15d486e6",
   "metadata": {},
   "outputs": [],
   "source": [
    "# url에 접속하여 정보를 가져와 res라는 변수에 저장\n",
    "res = requests.get(\"https://www.google.com/\")"
   ]
  },
  {
   "cell_type": "code",
   "execution_count": 23,
   "id": "d80dec3a",
   "metadata": {},
   "outputs": [
    {
     "name": "stdout",
     "output_type": "stream",
     "text": [
      "200\n"
     ]
    }
   ],
   "source": [
    "# 200이면 정상적으로 동작함을 의미한다. \n",
    "# 403이면 정상적으로 접근 불가능함을 의미.\n",
    "print(res.status_code)"
   ]
  },
  {
   "cell_type": "code",
   "execution_count": 24,
   "id": "fb6ac7d8",
   "metadata": {},
   "outputs": [
    {
     "name": "stdout",
     "output_type": "stream",
     "text": [
      "16571\n"
     ]
    }
   ],
   "source": [
    "# 글자 개수 출력\n",
    "print(len(res.text))"
   ]
  },
  {
   "cell_type": "code",
   "execution_count": 27,
   "id": "9567f1c7",
   "metadata": {},
   "outputs": [],
   "source": [
    "# mygoogle.html 제목으로 html 파일을 생성\n",
    "\n",
    "with open(\"mygoogle.html\", 'w', encoding='utf8') as f:\n",
    "    f.write(res.text)"
   ]
  },
  {
   "cell_type": "markdown",
   "id": "c18cce65",
   "metadata": {},
   "source": [
    "## 2. 정규식\n",
    "\n",
    "- 주민등록번호, 차량번호, 이메일 등의 형식, 규칙이 정규식을 의미한다.\n",
    "\n",
    "1) 정리\n",
    "- p = re.compile('원하는 형태')\n",
    "- m = p.match('비교할 문자열) : 주어진 문자열의 처음부터 일치하는지 확인\n",
    "- m = p.search('비교할 문자열) : 주어진 문자열 중에 일치하는게 있는지 확인\n",
    "- lst = p.findall('비교할 문자열) : 일치하는 모든 것을 리스트 형태로 반환\n",
    "\n",
    "2) 원하는 형태 : 정규식\n",
    "- . : 하나의 문자를 의미    예) ca.e : cafe, care, case, ...\n",
    "- ^ : 문자열의 시작을 의미  에) ^de : desk, destination, ...\n",
    "- $ : 문자열의 끝을 의미    예) se$ : case. base, ...\n",
    "  \n",
    "3) 출력\n",
    "- m.group() : 일치하는 문자열 반환\n",
    "- m.string : 입력하는 문자열 반환\n",
    "- m.start() : 입력하는 문자열의 시작 index\n",
    "- m.end() : 입력하는 문자열의 끝 index\n",
    "- m.span() : 일치하는 문자열의 시작/끝 index"
   ]
  },
  {
   "cell_type": "code",
   "execution_count": 28,
   "id": "c8604b05",
   "metadata": {},
   "outputs": [],
   "source": [
    "import re"
   ]
  },
  {
   "cell_type": "code",
   "execution_count": 60,
   "id": "1675ddb3",
   "metadata": {},
   "outputs": [
    {
     "name": "stdout",
     "output_type": "stream",
     "text": [
      "매칭되지 않음\n",
      "------------------------------\n",
      "m.group() : care\n",
      "m.string : good care\n",
      "m.start() : 5\n",
      "m.end() : 9\n",
      "m.span() : (5, 9)\n",
      "------------------------------\n",
      "['care', 'cafe']\n"
     ]
    }
   ],
   "source": [
    "\n",
    "p = re.compile('ca.e')\n",
    "\n",
    "def print_match(m):\n",
    "    if m:\n",
    "        print(\"m.group() :\", m.group())   # 일치하는 문자열 반환\n",
    "        print(\"m.string :\", m.string)     # 입력하는 문자열 반환\n",
    "        print(\"m.start() :\", m.start())   # 입력하는 문자열의 시작 index\n",
    "        print(\"m.end() :\", m.end())       # 입력하는 문자열의 끝 index\n",
    "        print(\"m.span() :\", m.span())     # 일치하는 문자열의 시작/끝 index\n",
    "    else:\n",
    "        print(\"매칭되지 않음\")\n",
    "        \n",
    "m = p.match('good care')                # mtach : 주어진 문자열의 처음부터 일치하는지 확인   예) careless -> care로 출력\n",
    "n = p.search(\"good care\")          # serch : 주어진 문자열 중에 일치하는게 있는지 확인  예)  \n",
    "lst= p.findall(\"good care cafe\")   # findall : 일치하는 모든 것을 리스트 형태로 반환\n",
    "\n",
    "print_match(m)\n",
    "print('-'*30)\n",
    "print_match(n)\n",
    "print('-'*30)\n",
    "print(lst)"
   ]
  },
  {
   "cell_type": "markdown",
   "id": "d3ae60cb",
   "metadata": {},
   "source": [
    "## 3. user agent"
   ]
  },
  {
   "cell_type": "code",
   "execution_count": 72,
   "id": "d8bc5fcd",
   "metadata": {},
   "outputs": [
    {
     "name": "stdout",
     "output_type": "stream",
     "text": [
      "200\n"
     ]
    }
   ],
   "source": [
    "# 나노코딩 홈페이지는 접근이 불가능하여 404오류를 출력한다.\n",
    "\n",
    "res = requests.get(\"http://nadocoding.tistory.com\")\n",
    "print(res.status_code)\n",
    "\n",
    "# 텍스트 파일로 만들어도 오류가 발생한다.\n",
    "with open(\"nanocoding.html\", 'w', encoding='utf8') as f:\n",
    "    f.write(res.text)"
   ]
  },
  {
   "cell_type": "code",
   "execution_count": 74,
   "id": "3183152a",
   "metadata": {},
   "outputs": [
    {
     "name": "stdout",
     "output_type": "stream",
     "text": [
      "200\n"
     ]
    }
   ],
   "source": [
    "# 나의 user agent를 얻어와 headers 변수 생성\n",
    "headers = {'User-Agent':'Mozilla/5.0 (Windows NT 10.0; Win64; x64) AppleWebKit/537.36 (KHTML, like Gecko) Chrome/96.0.4664.110 Safari/537.36'}\n",
    "url = \"http://nadocoding.tistory.com\"\n",
    "res = requests.get(url, headers = headers)\n",
    "print(res.status_code)\n",
    "with open(\"nanocoding.html\", 'w', encoding='utf8') as f:\n",
    "    f.write(res.text)"
   ]
  },
  {
   "cell_type": "code",
   "execution_count": null,
   "id": "b4b8c5a9",
   "metadata": {},
   "outputs": [],
   "source": []
  }
 ],
 "metadata": {
  "kernelspec": {
   "display_name": "Python 3 (ipykernel)",
   "language": "python",
   "name": "python3"
  },
  "language_info": {
   "codemirror_mode": {
    "name": "ipython",
    "version": 3
   },
   "file_extension": ".py",
   "mimetype": "text/x-python",
   "name": "python",
   "nbconvert_exporter": "python",
   "pygments_lexer": "ipython3",
   "version": "3.9.7"
  }
 },
 "nbformat": 4,
 "nbformat_minor": 5
}
