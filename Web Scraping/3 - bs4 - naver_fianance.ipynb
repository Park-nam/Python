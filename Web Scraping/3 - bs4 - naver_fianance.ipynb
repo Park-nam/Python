{
 "cells": [
  {
   "cell_type": "code",
   "execution_count": 1,
   "id": "66acbce7",
   "metadata": {},
   "outputs": [],
   "source": [
    "import requests\n",
    "from bs4 import BeautifulSoup\n",
    "import csv\n",
    "import pandas as pd"
   ]
  },
  {
   "cell_type": "code",
   "execution_count": 2,
   "id": "0e730ba0",
   "metadata": {},
   "outputs": [],
   "source": [
    "url = 'https://finance.naver.com/sise/sise_market_sum.nhn?sosok=0&page='\n",
    "headers = {'user-agent' : 'Mozilla/5.0 (Windows NT 10.0; Win64; x64) AppleWebKit/537.36 (KHTML, like Gecko) Chrome/96.0.4664.110 Safari/537.36'}"
   ]
  },
  {
   "cell_type": "markdown",
   "id": "610e5082",
   "metadata": {},
   "source": [
    "## 네이버 주가 금융 스크래핑\n",
    "\n",
    "- csv 파일로 저장"
   ]
  },
  {
   "cell_type": "code",
   "execution_count": 4,
   "id": "fd2887fd",
   "metadata": {},
   "outputs": [],
   "source": [
    "filename = '시가총액 1-200.csv'\n",
    "f = open(filename, 'w', encoding = 'utf-8-sig', newline = '')  # newline 옵션을 넣지 않을 경우 행마다 공백이 생긴다.\n",
    "writer = csv.writer(f)\n",
    "\n",
    "title = 'N\t종목명\t현재가\t전일비\t등락률\t액면가\t시가총액\t상장주식수\t외국인비율\t거래량\tPER\tROE'.split('\\t') # split('\\t') : 탭으로 구분\n",
    "writer.writerow(title)\n",
    "\n",
    "for page in range(1, 5):\n",
    "    res = requests.get(url + str(page), headers = headers)\n",
    "    soup = BeautifulSoup(res.text, 'lxml')\n",
    "    \n",
    "    # table에서 class 속성값이 type_2인 것 중 tbody아래의 tr의 모든 데이터를 수집\n",
    "    data_rows = soup.find('table', attrs={'class' : 'type_2'}).find('tbody').find_all('tr')\n",
    "    \n",
    "    for row in data_rows:\n",
    "        columns = row.find_all('td')\n",
    "        if len(columns) <=1:               # td 내용 중 컬럼의 개수가 1개 이하인 의미없는 데이터는 제거한다.\n",
    "            continue                      # 저장하지 않고 계속\n",
    "        data = [column.get_text() for column in columns]\n",
    "        # 한줄 for 문(아래와 출력은 동일함)\n",
    "        # for column in columns:\n",
    "            #data = column.get_text()\n",
    "\n",
    "        writer.writerow(data)"
   ]
  },
  {
   "cell_type": "markdown",
   "id": "f36601b3",
   "metadata": {},
   "source": [
    "### 바로가는 링크 삽입"
   ]
  },
  {
   "cell_type": "code",
   "execution_count": 5,
   "id": "c3dbf9ee",
   "metadata": {},
   "outputs": [],
   "source": [
    "filename = '시가총액 1-200.csv'\n",
    "f = open(filename, 'w', encoding = 'utf-8-sig', newline = '')  # newline 옵션을 넣지 않을 경우 행마다 공백이 생긴다.\n",
    "writer = csv.writer(f)\n",
    "\n",
    "title = 'N\t종목명\t현재가\t전일비\t등락률\t액면가\t시가총액\t상장주식수\t외국인비율\t거래량\tPER\tROE\tURL'.split('\\t') # split('\\t') : 탭으로 구분\n",
    "writer.writerow(title)\n",
    "\n",
    "for page in range(1, 5):\n",
    "    res = requests.get(url + str(page), headers = headers)\n",
    "    soup = BeautifulSoup(res.text, 'lxml')\n",
    "    \n",
    "    # table에서 class 속성값이 type_2인 것 중 tbody아래의 tr의 모든 데이터를 수집\n",
    "    data_rows = soup.find('table', attrs={'class' : 'type_2'}).find('tbody').find_all('tr')\n",
    "    \n",
    "    for row in data_rows:\n",
    "        columns = row.find_all('td')\n",
    "        if len(columns) <=1:               # td 내용 중 컬럼의 개수가 1개 이하인 의미없는 데이터는 제거한다.\n",
    "            continue                      # 저장하지 않고 계속\n",
    "        data = [column.get_text() for column in columns]\n",
    "        # 한줄 for 문(아래와 출력은 동일함)\n",
    "        # for column in columns:\n",
    "            #data = column.get_text()\n",
    "        link = data.append('https://finance.naver.com/' + row.find('a', attrs = {'class' : 'tltle'})['href'])\n",
    "        if link:\n",
    "            data = data.append(link)\n",
    "        data.remove('')                    # 데이터 공백값 제거\n",
    "        \n",
    "        writer.writerow(data)"
   ]
  },
  {
   "cell_type": "markdown",
   "id": "2dab5728",
   "metadata": {},
   "source": [
    "## 최종 버전"
   ]
  },
  {
   "cell_type": "code",
   "execution_count": 3,
   "id": "e00675f9",
   "metadata": {},
   "outputs": [],
   "source": [
    "data=[]\n",
    "link=[]\n",
    "\n",
    "for page in range(1,5):\n",
    "    res = requests.get(url + str(page), headers = headers)\n",
    "    soup = BeautifulSoup(res.text, 'lxml')    # lxml로 분석을 한다? <- 이 내용에 대해 차후 알아봐야 할 듯\n",
    "    \n",
    "    data_row = soup.find('table', attrs = {'class' : 'type_2'}).find('tbody').find_all('tr')\n",
    "    \n",
    "    for row in data_row:\n",
    "        column = row.find_all('td')\n",
    "        if len(column) <= 1:\n",
    "            continue\n",
    "        data.append([column.get_text() for column in column])\n",
    "        link.append('https://finance.naver.com/' + row.find('a', attrs = {'class' : 'tltle'})['href'])\n",
    "        \n",
    "title = 'N\t종목명\t현재가\t전일비\t등락률\t액면가\t시가총액\t상장주식수\t외국인비율\t거래량\tPER\tROE\tURL'.split('\\t') # split('\\t') : 탭으로 구분\n",
    "data = pd.DataFrame(data)\n",
    "data = data.iloc[:,0:12]\n",
    "\n",
    "link = pd.DataFrame(link)\n",
    "data = pd.concat([data,link],axis=1)\n",
    "data.columns = title\n",
    "\n",
    "data.to_csv('C:/Users/Park/_Python_data/시가총액_200.csv', encoding = 'utf-8-sig',index=False)"
   ]
  }
 ],
 "metadata": {
  "kernelspec": {
   "display_name": "Python 3 (ipykernel)",
   "language": "python",
   "name": "python3"
  },
  "language_info": {
   "codemirror_mode": {
    "name": "ipython",
    "version": 3
   },
   "file_extension": ".py",
   "mimetype": "text/x-python",
   "name": "python",
   "nbconvert_exporter": "python",
   "pygments_lexer": "ipython3",
   "version": "3.9.7"
  }
 },
 "nbformat": 4,
 "nbformat_minor": 5
}
